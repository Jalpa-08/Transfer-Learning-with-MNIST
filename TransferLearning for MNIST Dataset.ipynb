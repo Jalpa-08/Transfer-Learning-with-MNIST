{
  "cells": [
    {
      "cell_type": "code",
      "execution_count": null,
      "metadata": {
        "id": "leAkxyCss2Mi"
      },
      "outputs": [],
      "source": [
        "import numpy as np\n",
        "import pandas as pd\n",
        "import matplotlib.pyplot as plt\n",
        "import tensorflow as tf\n",
        "import seaborn as sns"
      ]
    },
    {
      "cell_type": "code",
      "execution_count": null,
      "metadata": {
        "id": "5rXwHlGutcoh"
      },
      "outputs": [],
      "source": [
        "mnist=tf.keras.datasets.mnist\n"
      ]
    },
    {
      "cell_type": "code",
      "execution_count": null,
      "metadata": {
        "colab": {
          "base_uri": "https://localhost:8080/"
        },
        "id": "PcM_dWv7tyzY",
        "outputId": "c8a9fb41-160f-4bf7-944c-a388e88f025c"
      },
      "outputs": [
        {
          "name": "stdout",
          "output_type": "stream",
          "text": [
            "Downloading data from https://storage.googleapis.com/tensorflow/tf-keras-datasets/mnist.npz\n",
            "11490434/11490434 [==============================] - 0s 0us/step\n"
          ]
        }
      ],
      "source": [
        "(X_train_full,y_train_full),(X_test,y_test)=mnist.load_data()"
      ]
    },
    {
      "cell_type": "code",
      "execution_count": null,
      "metadata": {
        "colab": {
          "base_uri": "https://localhost:8080/"
        },
        "id": "ajO0i8L-uFyt",
        "outputId": "c5612156-0b4d-472c-9d6e-f5aa57317123"
      },
      "outputs": [
        {
          "data": {
            "text/plain": [
              "(60000, 28, 28)"
            ]
          },
          "execution_count": 4,
          "metadata": {},
          "output_type": "execute_result"
        }
      ],
      "source": [
        "X_train_full.shape"
      ]
    },
    {
      "cell_type": "code",
      "execution_count": null,
      "metadata": {
        "colab": {
          "base_uri": "https://localhost:8080/"
        },
        "id": "HGOkA6YmuJwY",
        "outputId": "a65e99ff-f644-4926-8d75-5a0d0d91a1e8"
      },
      "outputs": [
        {
          "data": {
            "text/plain": [
              "(28, 28)"
            ]
          },
          "execution_count": 5,
          "metadata": {},
          "output_type": "execute_result"
        }
      ],
      "source": [
        "X_train_full[0].shape"
      ]
    },
    {
      "cell_type": "code",
      "execution_count": null,
      "metadata": {
        "id": "QBo-P4k13tCw"
      },
      "outputs": [],
      "source": []
    },
    {
      "cell_type": "code",
      "execution_count": null,
      "metadata": {
        "colab": {
          "base_uri": "https://localhost:8080/"
        },
        "id": "g2mrSmIPucNz",
        "outputId": "7d561b42-c482-4240-b7b2-6e15698490ab"
      },
      "outputs": [
        {
          "data": {
            "text/plain": [
              "(60000,)"
            ]
          },
          "execution_count": 6,
          "metadata": {},
          "output_type": "execute_result"
        }
      ],
      "source": [
        "y_train_full.shape"
      ]
    },
    {
      "cell_type": "code",
      "execution_count": null,
      "metadata": {
        "colab": {
          "base_uri": "https://localhost:8080/"
        },
        "id": "yjgweJD1ukip",
        "outputId": "ec84ea75-e428-44f6-e9d4-92d8dfd66f94"
      },
      "outputs": [
        {
          "data": {
            "text/plain": [
              "3"
            ]
          },
          "execution_count": 7,
          "metadata": {},
          "output_type": "execute_result"
        }
      ],
      "source": [
        "y_train_full[7]"
      ]
    },
    {
      "cell_type": "code",
      "execution_count": null,
      "metadata": {
        "colab": {
          "base_uri": "https://localhost:8080/"
        },
        "id": "_Exx7OyMv-dT",
        "outputId": "dd4964d7-2d12-497c-c0e0-8edf6199090a"
      },
      "outputs": [
        {
          "data": {
            "text/plain": [
              "(10000, 28, 28)"
            ]
          },
          "execution_count": 8,
          "metadata": {},
          "output_type": "execute_result"
        }
      ],
      "source": [
        "X_test.shape"
      ]
    },
    {
      "cell_type": "code",
      "execution_count": null,
      "metadata": {
        "colab": {
          "base_uri": "https://localhost:8080/"
        },
        "id": "ZZhcXA0jwGmh",
        "outputId": "55fc993a-55bf-4f43-88cf-5c06c3df90c3"
      },
      "outputs": [
        {
          "data": {
            "text/plain": [
              "(10000,)"
            ]
          },
          "execution_count": 9,
          "metadata": {},
          "output_type": "execute_result"
        }
      ],
      "source": [
        "y_test.shape"
      ]
    },
    {
      "cell_type": "code",
      "execution_count": null,
      "metadata": {
        "colab": {
          "base_uri": "https://localhost:8080/",
          "height": 68
        },
        "id": "8vwefIzawIhl",
        "outputId": "96b51222-bae1-495c-a52c-f3fc8560cc00"
      },
      "outputs": [
        {
          "data": {
            "text/html": [
              "<style>\n",
              "      .ndarray_repr .ndarray_raw_data {\n",
              "        display: none;\n",
              "      }\n",
              "      .ndarray_repr.show_array .ndarray_raw_data {\n",
              "        display: block;\n",
              "      }\n",
              "      .ndarray_repr.show_array .ndarray_image_preview {\n",
              "        display: none;\n",
              "      }\n",
              "      </style>\n",
              "      <div id=\"id-a3cda29f-fac1-4cab-bc06-00af44400f4f\" class=\"ndarray_repr\"><pre>ndarray (28, 28) <button style=\"padding: 0 2px;\">show data</button></pre><img src=\"data:image/png;base64,iVBORw0KGgoAAAANSUhEUgAAABwAAAAcCAAAAABXZoBIAAAA+UlEQVR4nNXQrUuDARDH8d8mMuVBHxCMlqWxJIKbYhBFVmRhaTiwi03sIhjFYLHtD1DrxKRFDCbfpmxDEQa6NoUZpj77zvCU54Hnis2Dg4MPd8ed9F8jNpLwi/jq5/VQ2Nwyl5KksR3oOiEbfoK3NUkLNaAR7jyE1lbKyVUAKAUpdfpDs5CrvALA5kDAEjfQx0/g3LeYj9NXktTvNR6q6aI6U8/BqQdwks9PStqG3mz4jNHyxYQkabkLu8Yf5upw5EabW4dHwwY3oJ2NtvgKvBeMhXvwsW7Yooe3b9jSN96xYZkvuDNs5gXOnGibb8G9Yckm3I4bQ/8Sv1SQdejWwohEAAAAAElFTkSuQmCC\" class=\"ndarray_image_preview\" /><pre class=\"ndarray_raw_data\">array([[  0,   0,   0,   0,   0,   0,   0,   0,   0,   0,   0,   0,   0,\n",
              "          0,   0,   0,   0,   0,   0,   0,   0,   0,   0,   0,   0,   0,\n",
              "          0,   0],\n",
              "       [  0,   0,   0,   0,   0,   0,   0,   0,   0,   0,   0,   0,   0,\n",
              "          0,   0,   0,   0,   0,   0,   0,   0,   0,   0,   0,   0,   0,\n",
              "          0,   0],\n",
              "       [  0,   0,   0,   0,   0,   0,   0,   0,   0,   0,   0,   0,   0,\n",
              "          0,   0,   0,   0,   0,   0,   0,   0,   0,   0,   0,   0,   0,\n",
              "          0,   0],\n",
              "       [  0,   0,   0,   0,   0,   0,   0,   0,   0,   0,   0,   0,   0,\n",
              "          0,   0,   0,   0,   0,   0,   0,   0,   0,   0,   0,   0,   0,\n",
              "          0,   0],\n",
              "       [  0,   0,   0,   0,   0,   0,   0,   0,   0,   0,   0,   0,   0,\n",
              "          0,   0,   0,   0,   0,   0,   0,   0,   0,   0,   0,   0,   0,\n",
              "          0,   0],\n",
              "       [  0,   0,   0,   0,   0,   0,   0,   0,   0,   0,   0,   0,   0,\n",
              "          0,   0,   0,   0,   0,   0,   0,   0,   0,   0,   0,   0,   0,\n",
              "          0,   0],\n",
              "       [  0,   0,   0,   0,   0,   0,   0,   0,   0,   0,   0,   1,  13,\n",
              "          7,   0,   0,   0,   0,   0,   0,   2,  93, 244, 207,   8,   0,\n",
              "          0,   0],\n",
              "       [  0,   0,   0,   0,   0,   0,   0,   0,   0,   0,  15, 157, 254,\n",
              "        197,   0,   0,   0,   0,   0,  18, 131, 254, 254, 248,  11,   0,\n",
              "          0,   0],\n",
              "       [  0,   0,   0,   0,   0,   0,   0,   0,   0,   9, 220, 254, 254,\n",
              "        230, 104,   0,   0,   0,  65, 216, 254, 254, 254, 218,   8,   0,\n",
              "          0,   0],\n",
              "       [  0,   0,   0,   0,   0,   0,   0,   0,   0, 169, 254, 254, 231,\n",
              "        126,  40,  11,  70, 180, 254, 254, 254, 254, 254,  90,   0,   0,\n",
              "          0,   0],\n",
              "       [  0,   0,   0,   0,   0,   0,   0,  40, 183, 251, 254, 226,  81,\n",
              "         70, 180, 229, 254, 254, 254, 254, 254, 254, 115,   3,   0,   0,\n",
              "          0,   0],\n",
              "       [  0,   0,   0,   0,   0,   0,   7, 208, 254, 254, 255, 254, 254,\n",
              "        254, 255, 254, 254, 254, 254, 254, 254, 190,   3,   0,   0,   0,\n",
              "          0,   0],\n",
              "       [  0,   0,   0,   0,   0,   0,  53, 254, 254, 254, 254, 254, 253,\n",
              "        250, 212, 169, 125, 167, 254, 254, 241,  35,   0,   0,   0,   0,\n",
              "          0,   0],\n",
              "       [  0,   0,   0,   0,   0,   0, 150, 254, 254, 181,  77,  77,  48,\n",
              "          0,   0,   0, 128, 254, 254, 253,  57,   0,   0,   0,   0,   0,\n",
              "          0,   0],\n",
              "       [  0,   0,   0,   0,   0,   0,  14, 157, 195,  29,   0,   0,   0,\n",
              "          0,   0,  75, 248, 254, 254, 139,   0,   0,   0,   0,   0,   0,\n",
              "          0,   0],\n",
              "       [  0,   0,   0,   0,   0,   0,   0,   0,   0,   0,   0,   0,   0,\n",
              "          0,  59, 217, 254, 254, 170,  15,   0,   0,   0,   0,   0,   0,\n",
              "          0,   0],\n",
              "       [  0,   0,   0,   0,   0,   0,   0,   0,   0,   0,   0,   0,   0,\n",
              "         15, 217, 254, 254, 214,  15,   0,   0,   0,   0,   0,   0,   0,\n",
              "          0,   0],\n",
              "       [  0,   0,   0,   0,   0,   0,   0,   0,   0,   0,   0,   0,   5,\n",
              "        113, 254, 254, 238,  55,   0,   0,   0,   0,   0,   0,   0,   0,\n",
              "          0,   0],\n",
              "       [  0,   0,   0,   0,   0,   0,   0,   0,   0,   0,   0,   2,  89,\n",
              "        254, 254, 239,  81,   0,   0,   0,   0,   0,   0,   0,   0,   0,\n",
              "          0,   0],\n",
              "       [  0,   0,   0,   0,   0,   0,   0,   0,   0,   0,   0, 141, 254,\n",
              "        254, 240, 106,   0,   0,   0,   0,   0,   0,   0,   0,   0,   0,\n",
              "          0,   0],\n",
              "       [  0,   0,   0,   0,   0,   0,   0,   0,   0,   0,  66, 252, 254,\n",
              "        252, 145,   0,   0,   0,   0,   0,   0,   0,   0,   0,   0,   0,\n",
              "          0,   0],\n",
              "       [  0,   0,   0,   0,   0,   0,   0,   0,   0,  68, 250, 254, 252,\n",
              "        171,   0,   0,   0,   0,   0,   0,   0,   0,   0,   0,   0,   0,\n",
              "          0,   0],\n",
              "       [  0,   0,   0,   0,   0,   0,   0,   0,  54, 249, 254, 254, 210,\n",
              "          0,   0,   0,   0,   0,   0,   0,   0,   0,   0,   0,   0,   0,\n",
              "          0,   0],\n",
              "       [  0,   0,   0,   0,   0,   0,   0,  56, 223, 254, 254, 189,  11,\n",
              "          0,   0,   0,   0,   0,   0,   0,   0,   0,   0,   0,   0,   0,\n",
              "          0,   0],\n",
              "       [  0,   0,   0,   0,   0,   0,  63, 231, 254, 254, 211,  11,   0,\n",
              "          0,   0,   0,   0,   0,   0,   0,   0,   0,   0,   0,   0,   0,\n",
              "          0,   0],\n",
              "       [  0,   0,   0,   0,   0,  34, 226, 254, 254, 209,  21,   0,   0,\n",
              "          0,   0,   0,   0,   0,   0,   0,   0,   0,   0,   0,   0,   0,\n",
              "          0,   0],\n",
              "       [  0,   0,   0,   0,   0,   0,   0,   0,   0,   0,   0,   0,   0,\n",
              "          0,   0,   0,   0,   0,   0,   0,   0,   0,   0,   0,   0,   0,\n",
              "          0,   0],\n",
              "       [  0,   0,   0,   0,   0,   0,   0,   0,   0,   0,   0,   0,   0,\n",
              "          0,   0,   0,   0,   0,   0,   0,   0,   0,   0,   0,   0,   0,\n",
              "          0,   0]], dtype=uint8)</pre></div><script>\n",
              "      (() => {\n",
              "      const titles = ['show data', 'hide data'];\n",
              "      let index = 0\n",
              "      document.querySelector('#id-a3cda29f-fac1-4cab-bc06-00af44400f4f button').onclick = (e) => {\n",
              "        document.querySelector('#id-a3cda29f-fac1-4cab-bc06-00af44400f4f').classList.toggle('show_array');\n",
              "        index = (++index) % 2;\n",
              "        document.querySelector('#id-a3cda29f-fac1-4cab-bc06-00af44400f4f button').textContent = titles[index];\n",
              "        e.preventDefault();\n",
              "        e.stopPropagation();\n",
              "      }\n",
              "      })();\n",
              "    </script>"
            ],
            "text/plain": [
              "array([[  0,   0,   0,   0,   0,   0,   0,   0,   0,   0,   0,   0,   0,\n",
              "          0,   0,   0,   0,   0,   0,   0,   0,   0,   0,   0,   0,   0,\n",
              "          0,   0],\n",
              "       [  0,   0,   0,   0,   0,   0,   0,   0,   0,   0,   0,   0,   0,\n",
              "          0,   0,   0,   0,   0,   0,   0,   0,   0,   0,   0,   0,   0,\n",
              "          0,   0],\n",
              "       [  0,   0,   0,   0,   0,   0,   0,   0,   0,   0,   0,   0,   0,\n",
              "          0,   0,   0,   0,   0,   0,   0,   0,   0,   0,   0,   0,   0,\n",
              "          0,   0],\n",
              "       [  0,   0,   0,   0,   0,   0,   0,   0,   0,   0,   0,   0,   0,\n",
              "          0,   0,   0,   0,   0,   0,   0,   0,   0,   0,   0,   0,   0,\n",
              "          0,   0],\n",
              "       [  0,   0,   0,   0,   0,   0,   0,   0,   0,   0,   0,   0,   0,\n",
              "          0,   0,   0,   0,   0,   0,   0,   0,   0,   0,   0,   0,   0,\n",
              "          0,   0],\n",
              "       [  0,   0,   0,   0,   0,   0,   0,   0,   0,   0,   0,   0,   0,\n",
              "          0,   0,   0,   0,   0,   0,   0,   0,   0,   0,   0,   0,   0,\n",
              "          0,   0],\n",
              "       [  0,   0,   0,   0,   0,   0,   0,   0,   0,   0,   0,   1,  13,\n",
              "          7,   0,   0,   0,   0,   0,   0,   2,  93, 244, 207,   8,   0,\n",
              "          0,   0],\n",
              "       [  0,   0,   0,   0,   0,   0,   0,   0,   0,   0,  15, 157, 254,\n",
              "        197,   0,   0,   0,   0,   0,  18, 131, 254, 254, 248,  11,   0,\n",
              "          0,   0],\n",
              "       [  0,   0,   0,   0,   0,   0,   0,   0,   0,   9, 220, 254, 254,\n",
              "        230, 104,   0,   0,   0,  65, 216, 254, 254, 254, 218,   8,   0,\n",
              "          0,   0],\n",
              "       [  0,   0,   0,   0,   0,   0,   0,   0,   0, 169, 254, 254, 231,\n",
              "        126,  40,  11,  70, 180, 254, 254, 254, 254, 254,  90,   0,   0,\n",
              "          0,   0],\n",
              "       [  0,   0,   0,   0,   0,   0,   0,  40, 183, 251, 254, 226,  81,\n",
              "         70, 180, 229, 254, 254, 254, 254, 254, 254, 115,   3,   0,   0,\n",
              "          0,   0],\n",
              "       [  0,   0,   0,   0,   0,   0,   7, 208, 254, 254, 255, 254, 254,\n",
              "        254, 255, 254, 254, 254, 254, 254, 254, 190,   3,   0,   0,   0,\n",
              "          0,   0],\n",
              "       [  0,   0,   0,   0,   0,   0,  53, 254, 254, 254, 254, 254, 253,\n",
              "        250, 212, 169, 125, 167, 254, 254, 241,  35,   0,   0,   0,   0,\n",
              "          0,   0],\n",
              "       [  0,   0,   0,   0,   0,   0, 150, 254, 254, 181,  77,  77,  48,\n",
              "          0,   0,   0, 128, 254, 254, 253,  57,   0,   0,   0,   0,   0,\n",
              "          0,   0],\n",
              "       [  0,   0,   0,   0,   0,   0,  14, 157, 195,  29,   0,   0,   0,\n",
              "          0,   0,  75, 248, 254, 254, 139,   0,   0,   0,   0,   0,   0,\n",
              "          0,   0],\n",
              "       [  0,   0,   0,   0,   0,   0,   0,   0,   0,   0,   0,   0,   0,\n",
              "          0,  59, 217, 254, 254, 170,  15,   0,   0,   0,   0,   0,   0,\n",
              "          0,   0],\n",
              "       [  0,   0,   0,   0,   0,   0,   0,   0,   0,   0,   0,   0,   0,\n",
              "         15, 217, 254, 254, 214,  15,   0,   0,   0,   0,   0,   0,   0,\n",
              "          0,   0],\n",
              "       [  0,   0,   0,   0,   0,   0,   0,   0,   0,   0,   0,   0,   5,\n",
              "        113, 254, 254, 238,  55,   0,   0,   0,   0,   0,   0,   0,   0,\n",
              "          0,   0],\n",
              "       [  0,   0,   0,   0,   0,   0,   0,   0,   0,   0,   0,   2,  89,\n",
              "        254, 254, 239,  81,   0,   0,   0,   0,   0,   0,   0,   0,   0,\n",
              "          0,   0],\n",
              "       [  0,   0,   0,   0,   0,   0,   0,   0,   0,   0,   0, 141, 254,\n",
              "        254, 240, 106,   0,   0,   0,   0,   0,   0,   0,   0,   0,   0,\n",
              "          0,   0],\n",
              "       [  0,   0,   0,   0,   0,   0,   0,   0,   0,   0,  66, 252, 254,\n",
              "        252, 145,   0,   0,   0,   0,   0,   0,   0,   0,   0,   0,   0,\n",
              "          0,   0],\n",
              "       [  0,   0,   0,   0,   0,   0,   0,   0,   0,  68, 250, 254, 252,\n",
              "        171,   0,   0,   0,   0,   0,   0,   0,   0,   0,   0,   0,   0,\n",
              "          0,   0],\n",
              "       [  0,   0,   0,   0,   0,   0,   0,   0,  54, 249, 254, 254, 210,\n",
              "          0,   0,   0,   0,   0,   0,   0,   0,   0,   0,   0,   0,   0,\n",
              "          0,   0],\n",
              "       [  0,   0,   0,   0,   0,   0,   0,  56, 223, 254, 254, 189,  11,\n",
              "          0,   0,   0,   0,   0,   0,   0,   0,   0,   0,   0,   0,   0,\n",
              "          0,   0],\n",
              "       [  0,   0,   0,   0,   0,   0,  63, 231, 254, 254, 211,  11,   0,\n",
              "          0,   0,   0,   0,   0,   0,   0,   0,   0,   0,   0,   0,   0,\n",
              "          0,   0],\n",
              "       [  0,   0,   0,   0,   0,  34, 226, 254, 254, 209,  21,   0,   0,\n",
              "          0,   0,   0,   0,   0,   0,   0,   0,   0,   0,   0,   0,   0,\n",
              "          0,   0],\n",
              "       [  0,   0,   0,   0,   0,   0,   0,   0,   0,   0,   0,   0,   0,\n",
              "          0,   0,   0,   0,   0,   0,   0,   0,   0,   0,   0,   0,   0,\n",
              "          0,   0],\n",
              "       [  0,   0,   0,   0,   0,   0,   0,   0,   0,   0,   0,   0,   0,\n",
              "          0,   0,   0,   0,   0,   0,   0,   0,   0,   0,   0,   0,   0,\n",
              "          0,   0]], dtype=uint8)"
            ]
          },
          "execution_count": 10,
          "metadata": {},
          "output_type": "execute_result"
        }
      ],
      "source": [
        "X_train_full[1001]"
      ]
    },
    {
      "cell_type": "code",
      "execution_count": null,
      "metadata": {
        "colab": {
          "base_uri": "https://localhost:8080/",
          "height": 68
        },
        "id": "3CWewWoJwMiU",
        "outputId": "82f74193-da85-4748-e4b0-38702fa4cf2d"
      },
      "outputs": [
        {
          "data": {
            "text/html": [
              "<style>\n",
              "      .ndarray_repr .ndarray_raw_data {\n",
              "        display: none;\n",
              "      }\n",
              "      .ndarray_repr.show_array .ndarray_raw_data {\n",
              "        display: block;\n",
              "      }\n",
              "      .ndarray_repr.show_array .ndarray_image_preview {\n",
              "        display: none;\n",
              "      }\n",
              "      </style>\n",
              "      <div id=\"id-f4b7d3ed-e952-471f-bdfc-d7e10f8dff3a\" class=\"ndarray_repr\"><pre>ndarray (28, 28) <button style=\"padding: 0 2px;\">show data</button></pre><img src=\"data:image/png;base64,iVBORw0KGgoAAAANSUhEUgAAABwAAAAcCAAAAABXZoBIAAAA+UlEQVR4nNXQrUuDARDH8d8mMuVBHxCMlqWxJIKbYhBFVmRhaTiwi03sIhjFYLHtD1DrxKRFDCbfpmxDEQa6NoUZpj77zvCU54Hnis2Dg4MPd8ed9F8jNpLwi/jq5/VQ2Nwyl5KksR3oOiEbfoK3NUkLNaAR7jyE1lbKyVUAKAUpdfpDs5CrvALA5kDAEjfQx0/g3LeYj9NXktTvNR6q6aI6U8/BqQdwks9PStqG3mz4jNHyxYQkabkLu8Yf5upw5EabW4dHwwY3oJ2NtvgKvBeMhXvwsW7Yooe3b9jSN96xYZkvuDNs5gXOnGibb8G9Yckm3I4bQ/8Sv1SQdejWwohEAAAAAElFTkSuQmCC\" class=\"ndarray_image_preview\" /><pre class=\"ndarray_raw_data\">array([[  0,   0,   0,   0,   0,   0,   0,   0,   0,   0,   0,   0,   0,\n",
              "          0,   0,   0,   0,   0,   0,   0,   0,   0,   0,   0,   0,   0,\n",
              "          0,   0],\n",
              "       [  0,   0,   0,   0,   0,   0,   0,   0,   0,   0,   0,   0,   0,\n",
              "          0,   0,   0,   0,   0,   0,   0,   0,   0,   0,   0,   0,   0,\n",
              "          0,   0],\n",
              "       [  0,   0,   0,   0,   0,   0,   0,   0,   0,   0,   0,   0,   0,\n",
              "          0,   0,   0,   0,   0,   0,   0,   0,   0,   0,   0,   0,   0,\n",
              "          0,   0],\n",
              "       [  0,   0,   0,   0,   0,   0,   0,   0,   0,   0,   0,   0,   0,\n",
              "          0,   0,   0,   0,   0,   0,   0,   0,   0,   0,   0,   0,   0,\n",
              "          0,   0],\n",
              "       [  0,   0,   0,   0,   0,   0,   0,   0,   0,   0,   0,   0,   0,\n",
              "          0,   0,   0,   0,   0,   0,   0,   0,   0,   0,   0,   0,   0,\n",
              "          0,   0],\n",
              "       [  0,   0,   0,   0,   0,   0,   0,   0,   0,   0,   0,   0,   0,\n",
              "          0,   0,   0,   0,   0,   0,   0,   0,   0,   0,   0,   0,   0,\n",
              "          0,   0],\n",
              "       [  0,   0,   0,   0,   0,   0,   0,   0,   0,   0,   0,   1,  13,\n",
              "          7,   0,   0,   0,   0,   0,   0,   2,  93, 244, 207,   8,   0,\n",
              "          0,   0],\n",
              "       [  0,   0,   0,   0,   0,   0,   0,   0,   0,   0,  15, 157, 254,\n",
              "        197,   0,   0,   0,   0,   0,  18, 131, 254, 254, 248,  11,   0,\n",
              "          0,   0],\n",
              "       [  0,   0,   0,   0,   0,   0,   0,   0,   0,   9, 220, 254, 254,\n",
              "        230, 104,   0,   0,   0,  65, 216, 254, 254, 254, 218,   8,   0,\n",
              "          0,   0],\n",
              "       [  0,   0,   0,   0,   0,   0,   0,   0,   0, 169, 254, 254, 231,\n",
              "        126,  40,  11,  70, 180, 254, 254, 254, 254, 254,  90,   0,   0,\n",
              "          0,   0],\n",
              "       [  0,   0,   0,   0,   0,   0,   0,  40, 183, 251, 254, 226,  81,\n",
              "         70, 180, 229, 254, 254, 254, 254, 254, 254, 115,   3,   0,   0,\n",
              "          0,   0],\n",
              "       [  0,   0,   0,   0,   0,   0,   7, 208, 254, 254, 255, 254, 254,\n",
              "        254, 255, 254, 254, 254, 254, 254, 254, 190,   3,   0,   0,   0,\n",
              "          0,   0],\n",
              "       [  0,   0,   0,   0,   0,   0,  53, 254, 254, 254, 254, 254, 253,\n",
              "        250, 212, 169, 125, 167, 254, 254, 241,  35,   0,   0,   0,   0,\n",
              "          0,   0],\n",
              "       [  0,   0,   0,   0,   0,   0, 150, 254, 254, 181,  77,  77,  48,\n",
              "          0,   0,   0, 128, 254, 254, 253,  57,   0,   0,   0,   0,   0,\n",
              "          0,   0],\n",
              "       [  0,   0,   0,   0,   0,   0,  14, 157, 195,  29,   0,   0,   0,\n",
              "          0,   0,  75, 248, 254, 254, 139,   0,   0,   0,   0,   0,   0,\n",
              "          0,   0],\n",
              "       [  0,   0,   0,   0,   0,   0,   0,   0,   0,   0,   0,   0,   0,\n",
              "          0,  59, 217, 254, 254, 170,  15,   0,   0,   0,   0,   0,   0,\n",
              "          0,   0],\n",
              "       [  0,   0,   0,   0,   0,   0,   0,   0,   0,   0,   0,   0,   0,\n",
              "         15, 217, 254, 254, 214,  15,   0,   0,   0,   0,   0,   0,   0,\n",
              "          0,   0],\n",
              "       [  0,   0,   0,   0,   0,   0,   0,   0,   0,   0,   0,   0,   5,\n",
              "        113, 254, 254, 238,  55,   0,   0,   0,   0,   0,   0,   0,   0,\n",
              "          0,   0],\n",
              "       [  0,   0,   0,   0,   0,   0,   0,   0,   0,   0,   0,   2,  89,\n",
              "        254, 254, 239,  81,   0,   0,   0,   0,   0,   0,   0,   0,   0,\n",
              "          0,   0],\n",
              "       [  0,   0,   0,   0,   0,   0,   0,   0,   0,   0,   0, 141, 254,\n",
              "        254, 240, 106,   0,   0,   0,   0,   0,   0,   0,   0,   0,   0,\n",
              "          0,   0],\n",
              "       [  0,   0,   0,   0,   0,   0,   0,   0,   0,   0,  66, 252, 254,\n",
              "        252, 145,   0,   0,   0,   0,   0,   0,   0,   0,   0,   0,   0,\n",
              "          0,   0],\n",
              "       [  0,   0,   0,   0,   0,   0,   0,   0,   0,  68, 250, 254, 252,\n",
              "        171,   0,   0,   0,   0,   0,   0,   0,   0,   0,   0,   0,   0,\n",
              "          0,   0],\n",
              "       [  0,   0,   0,   0,   0,   0,   0,   0,  54, 249, 254, 254, 210,\n",
              "          0,   0,   0,   0,   0,   0,   0,   0,   0,   0,   0,   0,   0,\n",
              "          0,   0],\n",
              "       [  0,   0,   0,   0,   0,   0,   0,  56, 223, 254, 254, 189,  11,\n",
              "          0,   0,   0,   0,   0,   0,   0,   0,   0,   0,   0,   0,   0,\n",
              "          0,   0],\n",
              "       [  0,   0,   0,   0,   0,   0,  63, 231, 254, 254, 211,  11,   0,\n",
              "          0,   0,   0,   0,   0,   0,   0,   0,   0,   0,   0,   0,   0,\n",
              "          0,   0],\n",
              "       [  0,   0,   0,   0,   0,  34, 226, 254, 254, 209,  21,   0,   0,\n",
              "          0,   0,   0,   0,   0,   0,   0,   0,   0,   0,   0,   0,   0,\n",
              "          0,   0],\n",
              "       [  0,   0,   0,   0,   0,   0,   0,   0,   0,   0,   0,   0,   0,\n",
              "          0,   0,   0,   0,   0,   0,   0,   0,   0,   0,   0,   0,   0,\n",
              "          0,   0],\n",
              "       [  0,   0,   0,   0,   0,   0,   0,   0,   0,   0,   0,   0,   0,\n",
              "          0,   0,   0,   0,   0,   0,   0,   0,   0,   0,   0,   0,   0,\n",
              "          0,   0]], dtype=uint8)</pre></div><script>\n",
              "      (() => {\n",
              "      const titles = ['show data', 'hide data'];\n",
              "      let index = 0\n",
              "      document.querySelector('#id-f4b7d3ed-e952-471f-bdfc-d7e10f8dff3a button').onclick = (e) => {\n",
              "        document.querySelector('#id-f4b7d3ed-e952-471f-bdfc-d7e10f8dff3a').classList.toggle('show_array');\n",
              "        index = (++index) % 2;\n",
              "        document.querySelector('#id-f4b7d3ed-e952-471f-bdfc-d7e10f8dff3a button').textContent = titles[index];\n",
              "        e.preventDefault();\n",
              "        e.stopPropagation();\n",
              "      }\n",
              "      })();\n",
              "    </script>"
            ],
            "text/plain": [
              "array([[  0,   0,   0,   0,   0,   0,   0,   0,   0,   0,   0,   0,   0,\n",
              "          0,   0,   0,   0,   0,   0,   0,   0,   0,   0,   0,   0,   0,\n",
              "          0,   0],\n",
              "       [  0,   0,   0,   0,   0,   0,   0,   0,   0,   0,   0,   0,   0,\n",
              "          0,   0,   0,   0,   0,   0,   0,   0,   0,   0,   0,   0,   0,\n",
              "          0,   0],\n",
              "       [  0,   0,   0,   0,   0,   0,   0,   0,   0,   0,   0,   0,   0,\n",
              "          0,   0,   0,   0,   0,   0,   0,   0,   0,   0,   0,   0,   0,\n",
              "          0,   0],\n",
              "       [  0,   0,   0,   0,   0,   0,   0,   0,   0,   0,   0,   0,   0,\n",
              "          0,   0,   0,   0,   0,   0,   0,   0,   0,   0,   0,   0,   0,\n",
              "          0,   0],\n",
              "       [  0,   0,   0,   0,   0,   0,   0,   0,   0,   0,   0,   0,   0,\n",
              "          0,   0,   0,   0,   0,   0,   0,   0,   0,   0,   0,   0,   0,\n",
              "          0,   0],\n",
              "       [  0,   0,   0,   0,   0,   0,   0,   0,   0,   0,   0,   0,   0,\n",
              "          0,   0,   0,   0,   0,   0,   0,   0,   0,   0,   0,   0,   0,\n",
              "          0,   0],\n",
              "       [  0,   0,   0,   0,   0,   0,   0,   0,   0,   0,   0,   1,  13,\n",
              "          7,   0,   0,   0,   0,   0,   0,   2,  93, 244, 207,   8,   0,\n",
              "          0,   0],\n",
              "       [  0,   0,   0,   0,   0,   0,   0,   0,   0,   0,  15, 157, 254,\n",
              "        197,   0,   0,   0,   0,   0,  18, 131, 254, 254, 248,  11,   0,\n",
              "          0,   0],\n",
              "       [  0,   0,   0,   0,   0,   0,   0,   0,   0,   9, 220, 254, 254,\n",
              "        230, 104,   0,   0,   0,  65, 216, 254, 254, 254, 218,   8,   0,\n",
              "          0,   0],\n",
              "       [  0,   0,   0,   0,   0,   0,   0,   0,   0, 169, 254, 254, 231,\n",
              "        126,  40,  11,  70, 180, 254, 254, 254, 254, 254,  90,   0,   0,\n",
              "          0,   0],\n",
              "       [  0,   0,   0,   0,   0,   0,   0,  40, 183, 251, 254, 226,  81,\n",
              "         70, 180, 229, 254, 254, 254, 254, 254, 254, 115,   3,   0,   0,\n",
              "          0,   0],\n",
              "       [  0,   0,   0,   0,   0,   0,   7, 208, 254, 254, 255, 254, 254,\n",
              "        254, 255, 254, 254, 254, 254, 254, 254, 190,   3,   0,   0,   0,\n",
              "          0,   0],\n",
              "       [  0,   0,   0,   0,   0,   0,  53, 254, 254, 254, 254, 254, 253,\n",
              "        250, 212, 169, 125, 167, 254, 254, 241,  35,   0,   0,   0,   0,\n",
              "          0,   0],\n",
              "       [  0,   0,   0,   0,   0,   0, 150, 254, 254, 181,  77,  77,  48,\n",
              "          0,   0,   0, 128, 254, 254, 253,  57,   0,   0,   0,   0,   0,\n",
              "          0,   0],\n",
              "       [  0,   0,   0,   0,   0,   0,  14, 157, 195,  29,   0,   0,   0,\n",
              "          0,   0,  75, 248, 254, 254, 139,   0,   0,   0,   0,   0,   0,\n",
              "          0,   0],\n",
              "       [  0,   0,   0,   0,   0,   0,   0,   0,   0,   0,   0,   0,   0,\n",
              "          0,  59, 217, 254, 254, 170,  15,   0,   0,   0,   0,   0,   0,\n",
              "          0,   0],\n",
              "       [  0,   0,   0,   0,   0,   0,   0,   0,   0,   0,   0,   0,   0,\n",
              "         15, 217, 254, 254, 214,  15,   0,   0,   0,   0,   0,   0,   0,\n",
              "          0,   0],\n",
              "       [  0,   0,   0,   0,   0,   0,   0,   0,   0,   0,   0,   0,   5,\n",
              "        113, 254, 254, 238,  55,   0,   0,   0,   0,   0,   0,   0,   0,\n",
              "          0,   0],\n",
              "       [  0,   0,   0,   0,   0,   0,   0,   0,   0,   0,   0,   2,  89,\n",
              "        254, 254, 239,  81,   0,   0,   0,   0,   0,   0,   0,   0,   0,\n",
              "          0,   0],\n",
              "       [  0,   0,   0,   0,   0,   0,   0,   0,   0,   0,   0, 141, 254,\n",
              "        254, 240, 106,   0,   0,   0,   0,   0,   0,   0,   0,   0,   0,\n",
              "          0,   0],\n",
              "       [  0,   0,   0,   0,   0,   0,   0,   0,   0,   0,  66, 252, 254,\n",
              "        252, 145,   0,   0,   0,   0,   0,   0,   0,   0,   0,   0,   0,\n",
              "          0,   0],\n",
              "       [  0,   0,   0,   0,   0,   0,   0,   0,   0,  68, 250, 254, 252,\n",
              "        171,   0,   0,   0,   0,   0,   0,   0,   0,   0,   0,   0,   0,\n",
              "          0,   0],\n",
              "       [  0,   0,   0,   0,   0,   0,   0,   0,  54, 249, 254, 254, 210,\n",
              "          0,   0,   0,   0,   0,   0,   0,   0,   0,   0,   0,   0,   0,\n",
              "          0,   0],\n",
              "       [  0,   0,   0,   0,   0,   0,   0,  56, 223, 254, 254, 189,  11,\n",
              "          0,   0,   0,   0,   0,   0,   0,   0,   0,   0,   0,   0,   0,\n",
              "          0,   0],\n",
              "       [  0,   0,   0,   0,   0,   0,  63, 231, 254, 254, 211,  11,   0,\n",
              "          0,   0,   0,   0,   0,   0,   0,   0,   0,   0,   0,   0,   0,\n",
              "          0,   0],\n",
              "       [  0,   0,   0,   0,   0,  34, 226, 254, 254, 209,  21,   0,   0,\n",
              "          0,   0,   0,   0,   0,   0,   0,   0,   0,   0,   0,   0,   0,\n",
              "          0,   0],\n",
              "       [  0,   0,   0,   0,   0,   0,   0,   0,   0,   0,   0,   0,   0,\n",
              "          0,   0,   0,   0,   0,   0,   0,   0,   0,   0,   0,   0,   0,\n",
              "          0,   0],\n",
              "       [  0,   0,   0,   0,   0,   0,   0,   0,   0,   0,   0,   0,   0,\n",
              "          0,   0,   0,   0,   0,   0,   0,   0,   0,   0,   0,   0,   0,\n",
              "          0,   0]], dtype=uint8)"
            ]
          },
          "execution_count": 11,
          "metadata": {},
          "output_type": "execute_result"
        }
      ],
      "source": [
        "img=X_train_full[1001]\n",
        "img"
      ]
    },
    {
      "cell_type": "code",
      "execution_count": null,
      "metadata": {
        "colab": {
          "base_uri": "https://localhost:8080/",
          "height": 447
        },
        "id": "h7irs5G7wi_K",
        "outputId": "2a7b689d-d229-496c-f370-dc5cda360bae"
      },
      "outputs": [
        {
          "data": {
            "text/plain": [
              "<matplotlib.image.AxesImage at 0x7aa194ecba00>"
            ]
          },
          "execution_count": 12,
          "metadata": {},
          "output_type": "execute_result"
        },
        {
          "data": {
            "image/png": "[encoded data removed]",
            "text/plain": [
              "<Figure size 640x480 with 1 Axes>"
            ]
          },
          "metadata": {},
          "output_type": "display_data"
        }
      ],
      "source": [
        "plt.imshow(img,cmap='binary')#gray"
      ]
    },
    {
      "cell_type": "code",
      "execution_count": null,
      "metadata": {
        "colab": {
          "base_uri": "https://localhost:8080/"
        },
        "id": "py21Y_sQwpJH",
        "outputId": "c34162cf-03f1-4843-f261-d3f4609684bf"
      },
      "outputs": [
        {
          "data": {
            "text/plain": [
              "5"
            ]
          },
          "execution_count": 13,
          "metadata": {},
          "output_type": "execute_result"
        }
      ],
      "source": [
        "label=y_train_full[0]\n",
        "label"
      ]
    },
    {
      "cell_type": "code",
      "execution_count": null,
      "metadata": {
        "colab": {
          "base_uri": "https://localhost:8080/",
          "height": 1000
        },
        "id": "4fGt6Evpxopk",
        "outputId": "d2cd9634-ec96-48e7-d34b-c8426fb042ba"
      },
      "outputs": [
        {
          "data": {
            "text/plain": [
              "<Axes: >"
            ]
          },
          "execution_count": 14,
          "metadata": {},
          "output_type": "execute_result"
        },
        {
          "data": {
            "image/png": "[encoded data removed]",
            "text/plain": [
              "<Figure size 2000x2000 with 2 Axes>"
            ]
          },
          "metadata": {},
          "output_type": "display_data"
        }
      ],
      "source": [
        "plt.figure(figsize=(20,20))\n",
        "sns.heatmap(img/255,annot=True,cmap='binary')"
      ]
    },
    {
      "cell_type": "code",
      "execution_count": null,
      "metadata": {
        "colab": {
          "base_uri": "https://localhost:8080/"
        },
        "id": "1DCh_dsKyAva",
        "outputId": "4ec20b3d-e49d-49ae-cded-165803e4c1ed"
      },
      "outputs": [
        {
          "name": "stdout",
          "output_type": "stream",
          "text": [
            "1.0 150.0 100000.0\n"
          ]
        }
      ],
      "source": [
        "print(1e+0,1.5e+2,1e+5)"
      ]
    },
    {
      "cell_type": "code",
      "execution_count": null,
      "metadata": {
        "colab": {
          "base_uri": "https://localhost:8080/"
        },
        "id": "M7OxOCyZzm_q",
        "outputId": "54d4ff38-4bea-45fa-ad85-1f82eecea393"
      },
      "outputs": [
        {
          "data": {
            "text/plain": [
              "150.0"
            ]
          },
          "execution_count": 16,
          "metadata": {},
          "output_type": "execute_result"
        }
      ],
      "source": [
        "1.5e+2"
      ]
    },
    {
      "cell_type": "code",
      "execution_count": null,
      "metadata": {
        "colab": {
          "base_uri": "https://localhost:8080/"
        },
        "id": "2ndmenTa0W1G",
        "outputId": "8c313e01-107a-4c3b-9faa-7fda08f011c2"
      },
      "outputs": [
        {
          "data": {
            "text/plain": [
              "150.0"
            ]
          },
          "execution_count": 17,
          "metadata": {},
          "output_type": "execute_result"
        }
      ],
      "source": [
        "1.5*10**2"
      ]
    },
    {
      "cell_type": "code",
      "execution_count": null,
      "metadata": {
        "id": "Dxjt3ov_0aF2"
      },
      "outputs": [],
      "source": [
        "X_valid,X_train=X_train_full[:5000]/255,X_train_full[5000:]/255\n",
        "y_valid,y_train=y_train_full[:5000],y_train_full[5000:]\n",
        "X_test=X_test/255"
      ]
    },
    {
      "cell_type": "code",
      "execution_count": null,
      "metadata": {
        "colab": {
          "base_uri": "https://localhost:8080/"
        },
        "id": "D9vV9BIN1kU0",
        "outputId": "bea060cc-22c2-4deb-ec28-0655a22be65d"
      },
      "outputs": [
        {
          "data": {
            "text/plain": [
              "array([0, 1, 2, 3, 4, 5, 6, 7, 8, 9], dtype=uint8)"
            ]
          },
          "execution_count": 19,
          "metadata": {},
          "output_type": "execute_result"
        }
      ],
      "source": [
        "np.unique(y_train)"
      ]
    },
    {
      "cell_type": "code",
      "execution_count": null,
      "metadata": {
        "colab": {
          "base_uri": "https://localhost:8080/"
        },
        "id": "iwy17uzs1nb0",
        "outputId": "1456bae9-60e3-418e-9df2-700582d5fb55"
      },
      "outputs": [
        {
          "data": {
            "text/plain": [
              "10"
            ]
          },
          "execution_count": 20,
          "metadata": {},
          "output_type": "execute_result"
        }
      ],
      "source": [
        "len(np.unique(y_train))"
      ]
    },
    {
      "cell_type": "code",
      "execution_count": null,
      "metadata": {
        "colab": {
          "base_uri": "https://localhost:8080/"
        },
        "id": "HmOlDFPf1q3T",
        "outputId": "d0132c7a-f0f5-4fb5-894e-ad11c2c19daa"
      },
      "outputs": [
        {
          "data": {
            "text/plain": [
              "10"
            ]
          },
          "execution_count": 21,
          "metadata": {},
          "output_type": "execute_result"
        }
      ],
      "source": [
        "CLASS=len(np.unique(y_train))\n",
        "CLASS"
      ]
    },
    {
      "cell_type": "code",
      "execution_count": null,
      "metadata": {
        "id": "CoNgtkjh2R-l"
      },
      "outputs": [],
      "source": [
        "LAYERS=[\n",
        "    tf.keras.layers.Flatten(input_shape=(28,28),name=\"inputLayer\"),#784\n",
        "    tf.keras.layers.Dense(300,activation=\"relu\",name=\"hiddenLayer01\"),#300\n",
        "    tf.keras.layers.Dense(100,activation=\"relu\",name=\"hiddenLayer02\"),#100\n",
        "     tf.keras.layers.Dense(CLASS,activation=\"softmax\",name=\"outputLayer\")#10\n",
        "]"
      ]
    },
    {
      "cell_type": "code",
      "execution_count": null,
      "metadata": {
        "id": "bapym1JE3Tv1"
      },
      "outputs": [],
      "source": [
        "model_clf=tf.keras.models.Sequential(LAYERS)"
      ]
    },
    {
      "cell_type": "code",
      "execution_count": null,
      "metadata": {
        "colab": {
          "base_uri": "https://localhost:8080/"
        },
        "id": "frt7Lk_L3dal",
        "outputId": "7988c5c6-ced8-458c-ddc7-c4c2b17928a2"
      },
      "outputs": [
        {
          "name": "stdout",
          "output_type": "stream",
          "text": [
            "Model: \"sequential\"\n",
            "_________________________________________________________________\n",
            " Layer (type)                Output Shape              Param #   \n",
            "=================================================================\n",
            " inputLayer (Flatten)        (None, 784)               0         \n",
            "                                                                 \n",
            " hiddenLayer01 (Dense)       (None, 300)               235500    \n",
            "                                                                 \n",
            " hiddenLayer02 (Dense)       (None, 100)               30100     \n",
            "                                                                 \n",
            " outputLayer (Dense)         (None, 10)                1010      \n",
            "                                                                 \n",
            "=================================================================\n",
            "Total params: 266610 (1.02 MB)\n",
            "Trainable params: 266610 (1.02 MB)\n",
            "Non-trainable params: 0 (0.00 Byte)\n",
            "_________________________________________________________________\n"
          ]
        }
      ],
      "source": [
        "model_clf.summary()"
      ]
    },
    {
      "cell_type": "code",
      "execution_count": null,
      "metadata": {
        "colab": {
          "base_uri": "https://localhost:8080/"
        },
        "id": "Ow-qcp-I3hDX",
        "outputId": "469b738d-76ea-4790-e629-01b7955d3729"
      },
      "outputs": [
        {
          "data": {
            "text/plain": [
              "235500"
            ]
          },
          "execution_count": 25,
          "metadata": {},
          "output_type": "execute_result"
        }
      ],
      "source": [
        "#weight and bias\n",
        "784*300+300"
      ]
    },
    {
      "cell_type": "code",
      "execution_count": null,
      "metadata": {
        "colab": {
          "base_uri": "https://localhost:8080/"
        },
        "id": "Etv8zWZq38xC",
        "outputId": "22857455-17bd-4804-a30c-90c43b6c817f"
      },
      "outputs": [
        {
          "data": {
            "text/plain": [
              "30100"
            ]
          },
          "execution_count": 26,
          "metadata": {},
          "output_type": "execute_result"
        }
      ],
      "source": [
        "300*100+100"
      ]
    },
    {
      "cell_type": "code",
      "execution_count": null,
      "metadata": {
        "colab": {
          "base_uri": "https://localhost:8080/"
        },
        "id": "ynqt6gBu4Yhh",
        "outputId": "ca1664dd-800f-4180-a912-737dcecd9cdd"
      },
      "outputs": [
        {
          "data": {
            "text/plain": [
              "1010"
            ]
          },
          "execution_count": 27,
          "metadata": {},
          "output_type": "execute_result"
        }
      ],
      "source": [
        "100*10+10"
      ]
    },
    {
      "cell_type": "code",
      "execution_count": null,
      "metadata": {
        "colab": {
          "base_uri": "https://localhost:8080/"
        },
        "id": "ONfSkpc64bI6",
        "outputId": "c34fc515-ca2f-4667-ccf8-b098f518ba3e"
      },
      "outputs": [
        {
          "data": {
            "text/plain": [
              "266610"
            ]
          },
          "execution_count": 28,
          "metadata": {},
          "output_type": "execute_result"
        }
      ],
      "source": [
        "235500+30100+1010"
      ]
    },
    {
      "cell_type": "code",
      "execution_count": null,
      "metadata": {
        "id": "UOs_Be9S4ftw"
      },
      "outputs": [],
      "source": [
        "LOSS_FUNCTION='sparse_categorical_crossentropy'\n",
        "OPTIMIZERS='SGD'\n",
        "METRICS=['accuracy']\n",
        "model_clf.compile(loss=LOSS_FUNCTION,optimizer=OPTIMIZERS,metrics=METRICS)"
      ]
    },
    {
      "cell_type": "code",
      "execution_count": null,
      "metadata": {
        "colab": {
          "base_uri": "https://localhost:8080/"
        },
        "id": "b-nFxElH4_ge",
        "outputId": "e760bdee-00d7-4ca8-963e-e772480ea84a"
      },
      "outputs": [
        {
          "name": "stdout",
          "output_type": "stream",
          "text": [
            "Epoch 1/30\n",
            "1719/1719 [==============================] - 13s 6ms/step - loss: 0.6064 - accuracy: 0.8409 - val_loss: 0.3059 - val_accuracy: 0.9174\n",
            "Epoch 2/30\n",
            "1719/1719 [==============================] - 11s 6ms/step - loss: 0.2862 - accuracy: 0.9188 - val_loss: 0.2446 - val_accuracy: 0.9300\n",
            "Epoch 3/30\n",
            "1719/1719 [==============================] - 9s 5ms/step - loss: 0.2341 - accuracy: 0.9333 - val_loss: 0.2014 - val_accuracy: 0.9444\n",
            "Epoch 4/30\n",
            "1719/1719 [==============================] - 10s 6ms/step - loss: 0.2004 - accuracy: 0.9430 - val_loss: 0.1802 - val_accuracy: 0.9504\n",
            "Epoch 5/30\n",
            "1719/1719 [==============================] - 9s 5ms/step - loss: 0.1752 - accuracy: 0.9502 - val_loss: 0.1595 - val_accuracy: 0.9556\n",
            "Epoch 6/30\n",
            "1719/1719 [==============================] - 10s 6ms/step - loss: 0.1558 - accuracy: 0.9553 - val_loss: 0.1474 - val_accuracy: 0.9602\n",
            "Epoch 7/30\n",
            "1719/1719 [==============================] - 6s 3ms/step - loss: 0.1398 - accuracy: 0.9599 - val_loss: 0.1353 - val_accuracy: 0.9630\n",
            "Epoch 8/30\n",
            "1719/1719 [==============================] - 5s 3ms/step - loss: 0.1267 - accuracy: 0.9635 - val_loss: 0.1243 - val_accuracy: 0.9652\n",
            "Epoch 9/30\n",
            "1719/1719 [==============================] - 5s 3ms/step - loss: 0.1153 - accuracy: 0.9667 - val_loss: 0.1211 - val_accuracy: 0.9674\n",
            "Epoch 10/30\n",
            "1719/1719 [==============================] - 5s 3ms/step - loss: 0.1056 - accuracy: 0.9703 - val_loss: 0.1112 - val_accuracy: 0.9694\n",
            "Epoch 11/30\n",
            "1719/1719 [==============================] - 7s 4ms/step - loss: 0.0976 - accuracy: 0.9726 - val_loss: 0.1082 - val_accuracy: 0.9704\n",
            "Epoch 12/30\n",
            "1719/1719 [==============================] - 10s 6ms/step - loss: 0.0896 - accuracy: 0.9747 - val_loss: 0.1057 - val_accuracy: 0.9712\n",
            "Epoch 13/30\n",
            "1719/1719 [==============================] - 8s 5ms/step - loss: 0.0833 - accuracy: 0.9765 - val_loss: 0.0973 - val_accuracy: 0.9740\n",
            "Epoch 14/30\n",
            "1719/1719 [==============================] - 6s 4ms/step - loss: 0.0775 - accuracy: 0.9784 - val_loss: 0.0950 - val_accuracy: 0.9722\n",
            "Epoch 15/30\n",
            "1719/1719 [==============================] - 8s 5ms/step - loss: 0.0720 - accuracy: 0.9796 - val_loss: 0.0928 - val_accuracy: 0.9748\n",
            "Epoch 16/30\n",
            "1719/1719 [==============================] - 9s 5ms/step - loss: 0.0671 - accuracy: 0.9814 - val_loss: 0.0899 - val_accuracy: 0.9744\n",
            "Epoch 17/30\n",
            "1719/1719 [==============================] - 8s 5ms/step - loss: 0.0628 - accuracy: 0.9829 - val_loss: 0.0857 - val_accuracy: 0.9754\n",
            "Epoch 18/30\n",
            "1719/1719 [==============================] - 7s 4ms/step - loss: 0.0588 - accuracy: 0.9841 - val_loss: 0.0890 - val_accuracy: 0.9746\n",
            "Epoch 19/30\n",
            "1719/1719 [==============================] - 5s 3ms/step - loss: 0.0552 - accuracy: 0.9851 - val_loss: 0.0812 - val_accuracy: 0.9758\n",
            "Epoch 20/30\n",
            "1719/1719 [==============================] - 7s 4ms/step - loss: 0.0516 - accuracy: 0.9860 - val_loss: 0.0807 - val_accuracy: 0.9766\n",
            "Epoch 21/30\n",
            "1719/1719 [==============================] - 7s 4ms/step - loss: 0.0482 - accuracy: 0.9872 - val_loss: 0.0853 - val_accuracy: 0.9764\n",
            "Epoch 22/30\n",
            "1719/1719 [==============================] - 11s 6ms/step - loss: 0.0456 - accuracy: 0.9878 - val_loss: 0.0785 - val_accuracy: 0.9770\n",
            "Epoch 23/30\n",
            "1719/1719 [==============================] - 8s 5ms/step - loss: 0.0428 - accuracy: 0.9891 - val_loss: 0.0788 - val_accuracy: 0.9766\n",
            "Epoch 24/30\n",
            "1719/1719 [==============================] - 5s 3ms/step - loss: 0.0404 - accuracy: 0.9898 - val_loss: 0.0753 - val_accuracy: 0.9774\n",
            "Epoch 25/30\n",
            "1719/1719 [==============================] - 7s 4ms/step - loss: 0.0379 - accuracy: 0.9904 - val_loss: 0.0761 - val_accuracy: 0.9778\n",
            "Epoch 26/30\n",
            "1719/1719 [==============================] - 7s 4ms/step - loss: 0.0357 - accuracy: 0.9914 - val_loss: 0.0743 - val_accuracy: 0.9780\n",
            "Epoch 27/30\n",
            "1719/1719 [==============================] - 7s 4ms/step - loss: 0.0336 - accuracy: 0.9920 - val_loss: 0.0738 - val_accuracy: 0.9788\n",
            "Epoch 28/30\n",
            "1719/1719 [==============================] - 6s 4ms/step - loss: 0.0319 - accuracy: 0.9923 - val_loss: 0.0732 - val_accuracy: 0.9786\n",
            "Epoch 29/30\n",
            "1719/1719 [==============================] - 5s 3ms/step - loss: 0.0300 - accuracy: 0.9931 - val_loss: 0.0739 - val_accuracy: 0.9786\n",
            "Epoch 30/30\n",
            "1719/1719 [==============================] - 6s 3ms/step - loss: 0.0281 - accuracy: 0.9935 - val_loss: 0.0738 - val_accuracy: 0.9784\n"
          ]
        }
      ],
      "source": [
        "EPOCHS=30\n",
        "VALIDATION=(X_valid,y_valid)\n",
        "history=model_clf.fit(\n",
        "    X_train,\n",
        "    y_train,\n",
        "    epochs=EPOCHS,\n",
        "    batch_size=32,\n",
        "    validation_data=VALIDATION\n",
        ")\n",
        "#here in the output 1719 represents the division of 55000/32\n",
        "#select 55000  because above we selected :5000 which are ion the test"
      ]
    },
    {
      "cell_type": "code",
      "execution_count": null,
      "metadata": {
        "colab": {
          "base_uri": "https://localhost:8080/"
        },
        "id": "rRZvW0Ez7K0z",
        "outputId": "3ad067b3-d3c4-4967-db76-2b59544e7197"
      },
      "outputs": [
        {
          "data": {
            "text/plain": [
              "<keras.src.callbacks.History at 0x7aa192453850>"
            ]
          },
          "execution_count": 31,
          "metadata": {},
          "output_type": "execute_result"
        }
      ],
      "source": [
        "history"
      ]
    },
    {
      "cell_type": "code",
      "execution_count": null,
      "metadata": {
        "colab": {
          "base_uri": "https://localhost:8080/"
        },
        "id": "PBdWxnqD7ND4",
        "outputId": "f68899d1-1a4d-4fa2-ac67-ed377b5760af"
      },
      "outputs": [
        {
          "data": {
            "text/plain": [
              "{'loss': [0.6063575744628906,\n",
              "  0.2861771881580353,\n",
              "  0.23406970500946045,\n",
              "  0.2004316747188568,\n",
              "  0.17522722482681274,\n",
              "  0.15583685040473938,\n",
              "  0.1398497223854065,\n",
              "  0.1267257034778595,\n",
              "  0.1152944341301918,\n",
              "  0.10564276576042175,\n",
              "  0.09755199402570724,\n",
              "  0.0896267369389534,\n",
              "  0.08329904079437256,\n",
              "  0.07749300450086594,\n",
              "  0.07202205061912537,\n",
              "  0.06709053367376328,\n",
              "  0.06280044466257095,\n",
              "  0.05880661681294441,\n",
              "  0.05524526536464691,\n",
              "  0.051625415682792664,\n",
              "  0.048203468322753906,\n",
              "  0.04555680975317955,\n",
              "  0.042833056300878525,\n",
              "  0.040379200130701065,\n",
              "  0.03785577788949013,\n",
              "  0.03569075092673302,\n",
              "  0.03357429802417755,\n",
              "  0.031857699155807495,\n",
              "  0.029983917251229286,\n",
              "  0.028128091245889664],\n",
              " 'accuracy': [0.8409090638160706,\n",
              "  0.9187636375427246,\n",
              "  0.9332545399665833,\n",
              "  0.9429818391799927,\n",
              "  0.9501818418502808,\n",
              "  0.9552727341651917,\n",
              "  0.9599090814590454,\n",
              "  0.96345454454422,\n",
              "  0.9666908979415894,\n",
              "  0.9702727198600769,\n",
              "  0.972599983215332,\n",
              "  0.9747272729873657,\n",
              "  0.9764727354049683,\n",
              "  0.9783818125724792,\n",
              "  0.9795818328857422,\n",
              "  0.9813818335533142,\n",
              "  0.9828909039497375,\n",
              "  0.9840909242630005,\n",
              "  0.9850545525550842,\n",
              "  0.9860000014305115,\n",
              "  0.9872000217437744,\n",
              "  0.987781822681427,\n",
              "  0.9890727400779724,\n",
              "  0.989763617515564,\n",
              "  0.9904181957244873,\n",
              "  0.991381824016571,\n",
              "  0.9919636249542236,\n",
              "  0.9923454523086548,\n",
              "  0.9931091070175171,\n",
              "  0.9934727549552917],\n",
              " 'val_loss': [0.3058972954750061,\n",
              "  0.24464574456214905,\n",
              "  0.20137347280979156,\n",
              "  0.18024256825447083,\n",
              "  0.1594889760017395,\n",
              "  0.1473940759897232,\n",
              "  0.13526993989944458,\n",
              "  0.12432316690683365,\n",
              "  0.12111790478229523,\n",
              "  0.11122828722000122,\n",
              "  0.10816510021686554,\n",
              "  0.10567273944616318,\n",
              "  0.09732887893915176,\n",
              "  0.09504048526287079,\n",
              "  0.09277568757534027,\n",
              "  0.08986085653305054,\n",
              "  0.08567636460065842,\n",
              "  0.08897289633750916,\n",
              "  0.08115910738706589,\n",
              "  0.08070071041584015,\n",
              "  0.08527479320764542,\n",
              "  0.078499436378479,\n",
              "  0.07879643142223358,\n",
              "  0.07534294575452805,\n",
              "  0.07611186802387238,\n",
              "  0.07426287978887558,\n",
              "  0.07381919771432877,\n",
              "  0.0732313022017479,\n",
              "  0.07391095161437988,\n",
              "  0.0737958550453186],\n",
              " 'val_accuracy': [0.9174000024795532,\n",
              "  0.9300000071525574,\n",
              "  0.9444000124931335,\n",
              "  0.9503999948501587,\n",
              "  0.9556000232696533,\n",
              "  0.9602000117301941,\n",
              "  0.9629999995231628,\n",
              "  0.9652000069618225,\n",
              "  0.9674000144004822,\n",
              "  0.9693999886512756,\n",
              "  0.9703999757766724,\n",
              "  0.9711999893188477,\n",
              "  0.9739999771118164,\n",
              "  0.9721999764442444,\n",
              "  0.9747999906539917,\n",
              "  0.974399983882904,\n",
              "  0.9753999710083008,\n",
              "  0.9746000170707703,\n",
              "  0.9757999777793884,\n",
              "  0.9765999913215637,\n",
              "  0.9764000177383423,\n",
              "  0.9769999980926514,\n",
              "  0.9765999913215637,\n",
              "  0.977400004863739,\n",
              "  0.9778000116348267,\n",
              "  0.9779999852180481,\n",
              "  0.9787999987602234,\n",
              "  0.978600025177002,\n",
              "  0.978600025177002,\n",
              "  0.9783999919891357]}"
            ]
          },
          "execution_count": 32,
          "metadata": {},
          "output_type": "execute_result"
        }
      ],
      "source": [
        "history.history"
      ]
    },
    {
      "cell_type": "code",
      "execution_count": null,
      "metadata": {
        "colab": {
          "base_uri": "https://localhost:8080/",
          "height": 990
        },
        "id": "AI6YASet7Qya",
        "outputId": "d9db356a-c6fb-43da-96c0-dcaba4d5aee6"
      },
      "outputs": [
        {
          "data": {
            "application/vnd.google.colaboratory.intrinsic+json": {
              "summary": "{\n  \"name\": \"pd\",\n  \"rows\": 30,\n  \"fields\": [\n    {\n      \"column\": \"loss\",\n      \"properties\": {\n        \"dtype\": \"number\",\n        \"std\": 0.11422919741747041,\n        \"min\": 0.028128091245889664,\n        \"max\": 0.6063575744628906,\n        \"num_unique_values\": 30,\n        \"samples\": [\n          0.031857699155807495,\n          0.06709053367376328,\n          0.040379200130701065\n        ],\n        \"semantic_type\": \"\",\n        \"description\": \"\"\n      }\n    },\n    {\n      \"column\": \"accuracy\",\n      \"properties\": {\n        \"dtype\": \"number\",\n        \"std\": 0.03087765149100364,\n        \"min\": 0.8409090638160706,\n        \"max\": 0.9934727549552917,\n        \"num_unique_values\": 30,\n        \"samples\": [\n          0.9923454523086548,\n          0.9813818335533142,\n          0.989763617515564\n        ],\n        \"semantic_type\": \"\",\n        \"description\": \"\"\n      }\n    },\n    {\n      \"column\": \"val_loss\",\n      \"properties\": {\n        \"dtype\": \"number\",\n        \"std\": 0.05553514943844527,\n        \"min\": 0.0732313022017479,\n        \"max\": 0.3058972954750061,\n        \"num_unique_values\": 30,\n        \"samples\": [\n          0.0732313022017479,\n          0.08986085653305054,\n          0.07534294575452805\n        ],\n        \"semantic_type\": \"\",\n        \"description\": \"\"\n      }\n    },\n    {\n      \"column\": \"val_accuracy\",\n      \"properties\": {\n        \"dtype\": \"number\",\n        \"std\": 0.014936921711045967,\n        \"min\": 0.9174000024795532,\n        \"max\": 0.9787999987602234,\n        \"num_unique_values\": 28,\n        \"samples\": [\n          0.9693999886512756,\n          0.9787999987602234,\n          0.9674000144004822\n        ],\n        \"semantic_type\": \"\",\n        \"description\": \"\"\n      }\n    }\n  ]\n}",
              "type": "dataframe"
            },
            "text/html": [
              "\n",
              "  <div id=\"df-84e4ca97-3f5e-4c46-94d9-629ab088a130\" class=\"colab-df-container\">\n",
              "    <div>\n",
              "<style scoped>\n",
              "    .dataframe tbody tr th:only-of-type {\n",
              "        vertical-align: middle;\n",
              "    }\n",
              "\n",
              "    .dataframe tbody tr th {\n",
              "        vertical-align: top;\n",
              "    }\n",
              "\n",
              "    .dataframe thead th {\n",
              "        text-align: right;\n",
              "    }\n",
              "</style>\n",
              "<table border=\"1\" class=\"dataframe\">\n",
              "  <thead>\n",
              "    <tr style=\"text-align: right;\">\n",
              "      <th></th>\n",
              "      <th>loss</th>\n",
              "      <th>accuracy</th>\n",
              "      <th>val_loss</th>\n",
              "      <th>val_accuracy</th>\n",
              "    </tr>\n",
              "  </thead>\n",
              "  <tbody>\n",
              "    <tr>\n",
              "      <th>0</th>\n",
              "      <td>0.606358</td>\n",
              "      <td>0.840909</td>\n",
              "      <td>0.305897</td>\n",
              "      <td>0.9174</td>\n",
              "    </tr>\n",
              "    <tr>\n",
              "      <th>1</th>\n",
              "      <td>0.286177</td>\n",
              "      <td>0.918764</td>\n",
              "      <td>0.244646</td>\n",
              "      <td>0.9300</td>\n",
              "    </tr>\n",
              "    <tr>\n",
              "      <th>2</th>\n",
              "      <td>0.234070</td>\n",
              "      <td>0.933255</td>\n",
              "      <td>0.201373</td>\n",
              "      <td>0.9444</td>\n",
              "    </tr>\n",
              "    <tr>\n",
              "      <th>3</th>\n",
              "      <td>0.200432</td>\n",
              "      <td>0.942982</td>\n",
              "      <td>0.180243</td>\n",
              "      <td>0.9504</td>\n",
              "    </tr>\n",
              "    <tr>\n",
              "      <th>4</th>\n",
              "      <td>0.175227</td>\n",
              "      <td>0.950182</td>\n",
              "      <td>0.159489</td>\n",
              "      <td>0.9556</td>\n",
              "    </tr>\n",
              "    <tr>\n",
              "      <th>5</th>\n",
              "      <td>0.155837</td>\n",
              "      <td>0.955273</td>\n",
              "      <td>0.147394</td>\n",
              "      <td>0.9602</td>\n",
              "    </tr>\n",
              "    <tr>\n",
              "      <th>6</th>\n",
              "      <td>0.139850</td>\n",
              "      <td>0.959909</td>\n",
              "      <td>0.135270</td>\n",
              "      <td>0.9630</td>\n",
              "    </tr>\n",
              "    <tr>\n",
              "      <th>7</th>\n",
              "      <td>0.126726</td>\n",
              "      <td>0.963455</td>\n",
              "      <td>0.124323</td>\n",
              "      <td>0.9652</td>\n",
              "    </tr>\n",
              "    <tr>\n",
              "      <th>8</th>\n",
              "      <td>0.115294</td>\n",
              "      <td>0.966691</td>\n",
              "      <td>0.121118</td>\n",
              "      <td>0.9674</td>\n",
              "    </tr>\n",
              "    <tr>\n",
              "      <th>9</th>\n",
              "      <td>0.105643</td>\n",
              "      <td>0.970273</td>\n",
              "      <td>0.111228</td>\n",
              "      <td>0.9694</td>\n",
              "    </tr>\n",
              "    <tr>\n",
              "      <th>10</th>\n",
              "      <td>0.097552</td>\n",
              "      <td>0.972600</td>\n",
              "      <td>0.108165</td>\n",
              "      <td>0.9704</td>\n",
              "    </tr>\n",
              "    <tr>\n",
              "      <th>11</th>\n",
              "      <td>0.089627</td>\n",
              "      <td>0.974727</td>\n",
              "      <td>0.105673</td>\n",
              "      <td>0.9712</td>\n",
              "    </tr>\n",
              "    <tr>\n",
              "      <th>12</th>\n",
              "      <td>0.083299</td>\n",
              "      <td>0.976473</td>\n",
              "      <td>0.097329</td>\n",
              "      <td>0.9740</td>\n",
              "    </tr>\n",
              "    <tr>\n",
              "      <th>13</th>\n",
              "      <td>0.077493</td>\n",
              "      <td>0.978382</td>\n",
              "      <td>0.095040</td>\n",
              "      <td>0.9722</td>\n",
              "    </tr>\n",
              "    <tr>\n",
              "      <th>14</th>\n",
              "      <td>0.072022</td>\n",
              "      <td>0.979582</td>\n",
              "      <td>0.092776</td>\n",
              "      <td>0.9748</td>\n",
              "    </tr>\n",
              "    <tr>\n",
              "      <th>15</th>\n",
              "      <td>0.067091</td>\n",
              "      <td>0.981382</td>\n",
              "      <td>0.089861</td>\n",
              "      <td>0.9744</td>\n",
              "    </tr>\n",
              "    <tr>\n",
              "      <th>16</th>\n",
              "      <td>0.062800</td>\n",
              "      <td>0.982891</td>\n",
              "      <td>0.085676</td>\n",
              "      <td>0.9754</td>\n",
              "    </tr>\n",
              "    <tr>\n",
              "      <th>17</th>\n",
              "      <td>0.058807</td>\n",
              "      <td>0.984091</td>\n",
              "      <td>0.088973</td>\n",
              "      <td>0.9746</td>\n",
              "    </tr>\n",
              "    <tr>\n",
              "      <th>18</th>\n",
              "      <td>0.055245</td>\n",
              "      <td>0.985055</td>\n",
              "      <td>0.081159</td>\n",
              "      <td>0.9758</td>\n",
              "    </tr>\n",
              "    <tr>\n",
              "      <th>19</th>\n",
              "      <td>0.051625</td>\n",
              "      <td>0.986000</td>\n",
              "      <td>0.080701</td>\n",
              "      <td>0.9766</td>\n",
              "    </tr>\n",
              "    <tr>\n",
              "      <th>20</th>\n",
              "      <td>0.048203</td>\n",
              "      <td>0.987200</td>\n",
              "      <td>0.085275</td>\n",
              "      <td>0.9764</td>\n",
              "    </tr>\n",
              "    <tr>\n",
              "      <th>21</th>\n",
              "      <td>0.045557</td>\n",
              "      <td>0.987782</td>\n",
              "      <td>0.078499</td>\n",
              "      <td>0.9770</td>\n",
              "    </tr>\n",
              "    <tr>\n",
              "      <th>22</th>\n",
              "      <td>0.042833</td>\n",
              "      <td>0.989073</td>\n",
              "      <td>0.078796</td>\n",
              "      <td>0.9766</td>\n",
              "    </tr>\n",
              "    <tr>\n",
              "      <th>23</th>\n",
              "      <td>0.040379</td>\n",
              "      <td>0.989764</td>\n",
              "      <td>0.075343</td>\n",
              "      <td>0.9774</td>\n",
              "    </tr>\n",
              "    <tr>\n",
              "      <th>24</th>\n",
              "      <td>0.037856</td>\n",
              "      <td>0.990418</td>\n",
              "      <td>0.076112</td>\n",
              "      <td>0.9778</td>\n",
              "    </tr>\n",
              "    <tr>\n",
              "      <th>25</th>\n",
              "      <td>0.035691</td>\n",
              "      <td>0.991382</td>\n",
              "      <td>0.074263</td>\n",
              "      <td>0.9780</td>\n",
              "    </tr>\n",
              "    <tr>\n",
              "      <th>26</th>\n",
              "      <td>0.033574</td>\n",
              "      <td>0.991964</td>\n",
              "      <td>0.073819</td>\n",
              "      <td>0.9788</td>\n",
              "    </tr>\n",
              "    <tr>\n",
              "      <th>27</th>\n",
              "      <td>0.031858</td>\n",
              "      <td>0.992345</td>\n",
              "      <td>0.073231</td>\n",
              "      <td>0.9786</td>\n",
              "    </tr>\n",
              "    <tr>\n",
              "      <th>28</th>\n",
              "      <td>0.029984</td>\n",
              "      <td>0.993109</td>\n",
              "      <td>0.073911</td>\n",
              "      <td>0.9786</td>\n",
              "    </tr>\n",
              "    <tr>\n",
              "      <th>29</th>\n",
              "      <td>0.028128</td>\n",
              "      <td>0.993473</td>\n",
              "      <td>0.073796</td>\n",
              "      <td>0.9784</td>\n",
              "    </tr>\n",
              "  </tbody>\n",
              "</table>\n",
              "</div>\n",
              "    <div class=\"colab-df-buttons\">\n",
              "\n",
              "  <div class=\"colab-df-container\">\n",
              "    <button class=\"colab-df-convert\" onclick=\"convertToInteractive('df-84e4ca97-3f5e-4c46-94d9-629ab088a130')\"\n",
              "            title=\"Convert this dataframe to an interactive table.\"\n",
              "            style=\"display:none;\">\n",
              "\n",
              "  <svg xmlns=\"http://www.w3.org/2000/svg\" height=\"24px\" viewBox=\"0 -960 960 960\">\n",
              "    <path d=\"M120-120v-720h720v720H120Zm60-500h600v-160H180v160Zm220 220h160v-160H400v160Zm0 220h160v-160H400v160ZM180-400h160v-160H180v160Zm440 0h160v-160H620v160ZM180-180h160v-160H180v160Zm440 0h160v-160H620v160Z\"/>\n",
              "  </svg>\n",
              "    </button>\n",
              "\n",
              "  <style>\n",
              "    .colab-df-container {\n",
              "      display:flex;\n",
              "      gap: 12px;\n",
              "    }\n",
              "\n",
              "    .colab-df-convert {\n",
              "      background-color: #E8F0FE;\n",
              "      border: none;\n",
              "      border-radius: 50%;\n",
              "      cursor: pointer;\n",
              "      display: none;\n",
              "      fill: #1967D2;\n",
              "      height: 32px;\n",
              "      padding: 0 0 0 0;\n",
              "      width: 32px;\n",
              "    }\n",
              "\n",
              "    .colab-df-convert:hover {\n",
              "      background-color: #E2EBFA;\n",
              "      box-shadow: 0px 1px 2px rgba(60, 64, 67, 0.3), 0px 1px 3px 1px rgba(60, 64, 67, 0.15);\n",
              "      fill: #174EA6;\n",
              "    }\n",
              "\n",
              "    .colab-df-buttons div {\n",
              "      margin-bottom: 4px;\n",
              "    }\n",
              "\n",
              "    [theme=dark] .colab-df-convert {\n",
              "      background-color: #3B4455;\n",
              "      fill: #D2E3FC;\n",
              "    }\n",
              "\n",
              "    [theme=dark] .colab-df-convert:hover {\n",
              "      background-color: #434B5C;\n",
              "      box-shadow: 0px 1px 3px 1px rgba(0, 0, 0, 0.15);\n",
              "      filter: drop-shadow(0px 1px 2px rgba(0, 0, 0, 0.3));\n",
              "      fill: #FFFFFF;\n",
              "    }\n",
              "  </style>\n",
              "\n",
              "    <script>\n",
              "      const buttonEl =\n",
              "        document.querySelector('#df-84e4ca97-3f5e-4c46-94d9-629ab088a130 button.colab-df-convert');\n",
              "      buttonEl.style.display =\n",
              "        google.colab.kernel.accessAllowed ? 'block' : 'none';\n",
              "\n",
              "      async function convertToInteractive(key) {\n",
              "        const element = document.querySelector('#df-84e4ca97-3f5e-4c46-94d9-629ab088a130');\n",
              "        const dataTable =\n",
              "          await google.colab.kernel.invokeFunction('convertToInteractive',\n",
              "                                                    [key], {});\n",
              "        if (!dataTable) return;\n",
              "\n",
              "        const docLinkHtml = 'Like what you see? Visit the ' +\n",
              "          '<a target=\"_blank\" href=https://colab.research.google.com/notebooks/data_table.ipynb>data table notebook</a>'\n",
              "          + ' to learn more about interactive tables.';\n",
              "        element.innerHTML = '';\n",
              "        dataTable['output_type'] = 'display_data';\n",
              "        await google.colab.output.renderOutput(dataTable, element);\n",
              "        const docLink = document.createElement('div');\n",
              "        docLink.innerHTML = docLinkHtml;\n",
              "        element.appendChild(docLink);\n",
              "      }\n",
              "    </script>\n",
              "  </div>\n",
              "\n",
              "\n",
              "<div id=\"df-0e377ac2-eb03-4dfb-b81a-5817b518080c\">\n",
              "  <button class=\"colab-df-quickchart\" onclick=\"quickchart('df-0e377ac2-eb03-4dfb-b81a-5817b518080c')\"\n",
              "            title=\"Suggest charts\"\n",
              "            style=\"display:none;\">\n",
              "\n",
              "<svg xmlns=\"http://www.w3.org/2000/svg\" height=\"24px\"viewBox=\"0 0 24 24\"\n",
              "     width=\"24px\">\n",
              "    <g>\n",
              "        <path d=\"M19 3H5c-1.1 0-2 .9-2 2v14c0 1.1.9 2 2 2h14c1.1 0 2-.9 2-2V5c0-1.1-.9-2-2-2zM9 17H7v-7h2v7zm4 0h-2V7h2v10zm4 0h-2v-4h2v4z\"/>\n",
              "    </g>\n",
              "</svg>\n",
              "  </button>\n",
              "\n",
              "<style>\n",
              "  .colab-df-quickchart {\n",
              "      --bg-color: #E8F0FE;\n",
              "      --fill-color: #1967D2;\n",
              "      --hover-bg-color: #E2EBFA;\n",
              "      --hover-fill-color: #174EA6;\n",
              "      --disabled-fill-color: #AAA;\n",
              "      --disabled-bg-color: #DDD;\n",
              "  }\n",
              "\n",
              "  [theme=dark] .colab-df-quickchart {\n",
              "      --bg-color: #3B4455;\n",
              "      --fill-color: #D2E3FC;\n",
              "      --hover-bg-color: #434B5C;\n",
              "      --hover-fill-color: #FFFFFF;\n",
              "      --disabled-bg-color: #3B4455;\n",
              "      --disabled-fill-color: #666;\n",
              "  }\n",
              "\n",
              "  .colab-df-quickchart {\n",
              "    background-color: var(--bg-color);\n",
              "    border: none;\n",
              "    border-radius: 50%;\n",
              "    cursor: pointer;\n",
              "    display: none;\n",
              "    fill: var(--fill-color);\n",
              "    height: 32px;\n",
              "    padding: 0;\n",
              "    width: 32px;\n",
              "  }\n",
              "\n",
              "  .colab-df-quickchart:hover {\n",
              "    background-color: var(--hover-bg-color);\n",
              "    box-shadow: 0 1px 2px rgba(60, 64, 67, 0.3), 0 1px 3px 1px rgba(60, 64, 67, 0.15);\n",
              "    fill: var(--button-hover-fill-color);\n",
              "  }\n",
              "\n",
              "  .colab-df-quickchart-complete:disabled,\n",
              "  .colab-df-quickchart-complete:disabled:hover {\n",
              "    background-color: var(--disabled-bg-color);\n",
              "    fill: var(--disabled-fill-color);\n",
              "    box-shadow: none;\n",
              "  }\n",
              "\n",
              "  .colab-df-spinner {\n",
              "    border: 2px solid var(--fill-color);\n",
              "    border-color: transparent;\n",
              "    border-bottom-color: var(--fill-color);\n",
              "    animation:\n",
              "      spin 1s steps(1) infinite;\n",
              "  }\n",
              "\n",
              "  @keyframes spin {\n",
              "    0% {\n",
              "      border-color: transparent;\n",
              "      border-bottom-color: var(--fill-color);\n",
              "      border-left-color: var(--fill-color);\n",
              "    }\n",
              "    20% {\n",
              "      border-color: transparent;\n",
              "      border-left-color: var(--fill-color);\n",
              "      border-top-color: var(--fill-color);\n",
              "    }\n",
              "    30% {\n",
              "      border-color: transparent;\n",
              "      border-left-color: var(--fill-color);\n",
              "      border-top-color: var(--fill-color);\n",
              "      border-right-color: var(--fill-color);\n",
              "    }\n",
              "    40% {\n",
              "      border-color: transparent;\n",
              "      border-right-color: var(--fill-color);\n",
              "      border-top-color: var(--fill-color);\n",
              "    }\n",
              "    60% {\n",
              "      border-color: transparent;\n",
              "      border-right-color: var(--fill-color);\n",
              "    }\n",
              "    80% {\n",
              "      border-color: transparent;\n",
              "      border-right-color: var(--fill-color);\n",
              "      border-bottom-color: var(--fill-color);\n",
              "    }\n",
              "    90% {\n",
              "      border-color: transparent;\n",
              "      border-bottom-color: var(--fill-color);\n",
              "    }\n",
              "  }\n",
              "</style>\n",
              "\n",
              "  <script>\n",
              "    async function quickchart(key) {\n",
              "      const quickchartButtonEl =\n",
              "        document.querySelector('#' + key + ' button');\n",
              "      quickchartButtonEl.disabled = true;  // To prevent multiple clicks.\n",
              "      quickchartButtonEl.classList.add('colab-df-spinner');\n",
              "      try {\n",
              "        const charts = await google.colab.kernel.invokeFunction(\n",
              "            'suggestCharts', [key], {});\n",
              "      } catch (error) {\n",
              "        console.error('Error during call to suggestCharts:', error);\n",
              "      }\n",
              "      quickchartButtonEl.classList.remove('colab-df-spinner');\n",
              "      quickchartButtonEl.classList.add('colab-df-quickchart-complete');\n",
              "    }\n",
              "    (() => {\n",
              "      let quickchartButtonEl =\n",
              "        document.querySelector('#df-0e377ac2-eb03-4dfb-b81a-5817b518080c button');\n",
              "      quickchartButtonEl.style.display =\n",
              "        google.colab.kernel.accessAllowed ? 'block' : 'none';\n",
              "    })();\n",
              "  </script>\n",
              "</div>\n",
              "\n",
              "    </div>\n",
              "  </div>\n"
            ],
            "text/plain": [
              "        loss  accuracy  val_loss  val_accuracy\n",
              "0   0.606358  0.840909  0.305897        0.9174\n",
              "1   0.286177  0.918764  0.244646        0.9300\n",
              "2   0.234070  0.933255  0.201373        0.9444\n",
              "3   0.200432  0.942982  0.180243        0.9504\n",
              "4   0.175227  0.950182  0.159489        0.9556\n",
              "5   0.155837  0.955273  0.147394        0.9602\n",
              "6   0.139850  0.959909  0.135270        0.9630\n",
              "7   0.126726  0.963455  0.124323        0.9652\n",
              "8   0.115294  0.966691  0.121118        0.9674\n",
              "9   0.105643  0.970273  0.111228        0.9694\n",
              "10  0.097552  0.972600  0.108165        0.9704\n",
              "11  0.089627  0.974727  0.105673        0.9712\n",
              "12  0.083299  0.976473  0.097329        0.9740\n",
              "13  0.077493  0.978382  0.095040        0.9722\n",
              "14  0.072022  0.979582  0.092776        0.9748\n",
              "15  0.067091  0.981382  0.089861        0.9744\n",
              "16  0.062800  0.982891  0.085676        0.9754\n",
              "17  0.058807  0.984091  0.088973        0.9746\n",
              "18  0.055245  0.985055  0.081159        0.9758\n",
              "19  0.051625  0.986000  0.080701        0.9766\n",
              "20  0.048203  0.987200  0.085275        0.9764\n",
              "21  0.045557  0.987782  0.078499        0.9770\n",
              "22  0.042833  0.989073  0.078796        0.9766\n",
              "23  0.040379  0.989764  0.075343        0.9774\n",
              "24  0.037856  0.990418  0.076112        0.9778\n",
              "25  0.035691  0.991382  0.074263        0.9780\n",
              "26  0.033574  0.991964  0.073819        0.9788\n",
              "27  0.031858  0.992345  0.073231        0.9786\n",
              "28  0.029984  0.993109  0.073911        0.9786\n",
              "29  0.028128  0.993473  0.073796        0.9784"
            ]
          },
          "execution_count": 33,
          "metadata": {},
          "output_type": "execute_result"
        }
      ],
      "source": [
        "pd.DataFrame(history.history)"
      ]
    },
    {
      "cell_type": "code",
      "execution_count": null,
      "metadata": {
        "colab": {
          "base_uri": "https://localhost:8080/",
          "height": 599
        },
        "id": "J2D868hY7XOX",
        "outputId": "61f89508-a97c-4e0b-87a5-0313dda926e4"
      },
      "outputs": [
        {
          "data": {
            "image/png": "[encoded data removed]",
            "text/plain": [
              "<Figure size 1000x700 with 1 Axes>"
            ]
          },
          "metadata": {},
          "output_type": "display_data"
        }
      ],
      "source": [
        "pd.DataFrame(history.history).plot(figsize=(10,7))\n",
        "plt.grid(True)\n",
        "plt.show()"
      ]
    },
    {
      "cell_type": "code",
      "execution_count": null,
      "metadata": {
        "colab": {
          "base_uri": "https://localhost:8080/"
        },
        "id": "WTG0crUw8Dzu",
        "outputId": "f2c1c270-d084-4633-eb97-82b4dcb6e4ab"
      },
      "outputs": [
        {
          "name": "stdout",
          "output_type": "stream",
          "text": [
            "313/313 [==============================] - 1s 2ms/step - loss: 0.0722 - accuracy: 0.9788\n"
          ]
        },
        {
          "data": {
            "text/plain": [
              "[0.07217376679182053, 0.9787999987602234]"
            ]
          },
          "execution_count": 35,
          "metadata": {},
          "output_type": "execute_result"
        }
      ],
      "source": [
        "model_clf.evaluate(X_test,y_test)"
      ]
    },
    {
      "cell_type": "code",
      "execution_count": null,
      "metadata": {
        "colab": {
          "base_uri": "https://localhost:8080/"
        },
        "id": "v4yQRN5Y8SLH",
        "outputId": "afdb87f4-fa37-492c-a004-9f4306053e32"
      },
      "outputs": [
        {
          "data": {
            "text/plain": [
              "312.5"
            ]
          },
          "execution_count": 36,
          "metadata": {},
          "output_type": "execute_result"
        }
      ],
      "source": [
        "10000/32"
      ]
    },
    {
      "cell_type": "code",
      "execution_count": null,
      "metadata": {
        "colab": {
          "base_uri": "https://localhost:8080/"
        },
        "id": "tKaIsIuD9PKa",
        "outputId": "e177d3c1-9cea-4149-86b1-41082fc00fa7"
      },
      "outputs": [
        {
          "name": "stderr",
          "output_type": "stream",
          "text": [
            "/usr/local/lib/python3.10/dist-packages/keras/src/engine/training.py:3103: UserWarning: You are saving your model as an HDF5 file via `model.save()`. This file format is considered legacy. We recommend using instead the native Keras format, e.g. `model.save('my_model.keras')`.\n",
            "  saving_api.save_model(\n"
          ]
        }
      ],
      "source": [
        "model_clf.save(\"mnist_full.h5\")"
      ]
    },
    {
      "cell_type": "code",
      "execution_count": null,
      "metadata": {
        "id": "XG0y-WcS9VQZ"
      },
      "outputs": [],
      "source": [
        "X_new=X_test[:8]"
      ]
    },
    {
      "cell_type": "code",
      "execution_count": null,
      "metadata": {
        "colab": {
          "base_uri": "https://localhost:8080/"
        },
        "id": "48n3330m08gt",
        "outputId": "c8d2b3a4-70fa-4168-f011-fa9954c22943"
      },
      "outputs": [
        {
          "name": "stdout",
          "output_type": "stream",
          "text": [
            "1/1 [==============================] - 0s 17ms/step\n"
          ]
        },
        {
          "data": {
            "text/plain": [
              "array([[0.   , 0.   , 0.   , 0.   , 0.   , 0.   , 0.   , 1.   , 0.   ,\n",
              "        0.   ],\n",
              "       [0.   , 0.   , 1.   , 0.   , 0.   , 0.   , 0.   , 0.   , 0.   ,\n",
              "        0.   ],\n",
              "       [0.   , 0.996, 0.   , 0.   , 0.   , 0.   , 0.   , 0.001, 0.002,\n",
              "        0.   ],\n",
              "       [1.   , 0.   , 0.   , 0.   , 0.   , 0.   , 0.   , 0.   , 0.   ,\n",
              "        0.   ],\n",
              "       [0.   , 0.   , 0.   , 0.   , 0.997, 0.   , 0.   , 0.   , 0.   ,\n",
              "        0.002],\n",
              "       [0.   , 0.998, 0.   , 0.   , 0.   , 0.   , 0.   , 0.002, 0.   ,\n",
              "        0.   ],\n",
              "       [0.   , 0.   , 0.   , 0.   , 0.999, 0.   , 0.   , 0.   , 0.001,\n",
              "        0.   ],\n",
              "       [0.   , 0.   , 0.001, 0.001, 0.001, 0.   , 0.   , 0.   , 0.   ,\n",
              "        0.996]], dtype=float32)"
            ]
          },
          "execution_count": 49,
          "metadata": {},
          "output_type": "execute_result"
        }
      ],
      "source": [
        "y_pred=model_clf.predict(X_new)\n",
        "y_pred.round(3)"
      ]
    },
    {
      "cell_type": "code",
      "execution_count": null,
      "metadata": {
        "colab": {
          "base_uri": "https://localhost:8080/"
        },
        "id": "SdZ_SiM61Vk_",
        "outputId": "4b2b2510-a89a-4d70-e6c3-62c98045f02b"
      },
      "outputs": [
        {
          "data": {
            "text/plain": [
              "(8, 28, 28)"
            ]
          },
          "execution_count": 41,
          "metadata": {},
          "output_type": "execute_result"
        }
      ],
      "source": [
        "X_new.shape"
      ]
    },
    {
      "cell_type": "code",
      "execution_count": null,
      "metadata": {
        "colab": {
          "base_uri": "https://localhost:8080/"
        },
        "id": "omaCw0s61VoI",
        "outputId": "6d441358-de28-4bbc-9a3a-b38a515a8eb4"
      },
      "outputs": [
        {
          "data": {
            "text/plain": [
              "(8, 10)"
            ]
          },
          "execution_count": 42,
          "metadata": {},
          "output_type": "execute_result"
        }
      ],
      "source": [
        "y_pred.shape"
      ]
    },
    {
      "cell_type": "code",
      "execution_count": null,
      "metadata": {
        "colab": {
          "base_uri": "https://localhost:8080/",
          "height": 447
        },
        "id": "fSRboJx41Vt6",
        "outputId": "0957b775-db30-4ebb-da1d-9813034e16a7"
      },
      "outputs": [
        {
          "data": {
            "text/plain": [
              "<matplotlib.image.AxesImage at 0x7aa1920fd1e0>"
            ]
          },
          "execution_count": 43,
          "metadata": {},
          "output_type": "execute_result"
        },
        {
          "data": {
            "image/png": "[encoded data removed]",
            "text/plain": [
              "<Figure size 640x480 with 1 Axes>"
            ]
          },
          "metadata": {},
          "output_type": "display_data"
        }
      ],
      "source": [
        "plt.imshow(X_new[0],cmap=\"gray\")"
      ]
    },
    {
      "cell_type": "code",
      "execution_count": null,
      "metadata": {
        "colab": {
          "base_uri": "https://localhost:8080/"
        },
        "id": "xWBmh2z-1rvb",
        "outputId": "b37de3a3-5900-4726-85fc-cd873f0e2534"
      },
      "outputs": [
        {
          "data": {
            "text/plain": [
              "array([7, 2, 1, 0, 4, 1, 4, 9])"
            ]
          },
          "execution_count": 44,
          "metadata": {},
          "output_type": "execute_result"
        }
      ],
      "source": [
        "Y_pred=np.argmax(y_pred,axis=1)\n",
        "Y_pred\n"
      ]
    },
    {
      "cell_type": "code",
      "execution_count": null,
      "metadata": {
        "colab": {
          "base_uri": "https://localhost:8080/"
        },
        "id": "65SYEKJY1ryP",
        "outputId": "66657f6c-c320-4f24-f7e3-fedb3068c29a"
      },
      "outputs": [
        {
          "name": "stdout",
          "output_type": "stream",
          "text": [
            "1 3 3\n",
            "2 2 3\n",
            "3 1 3\n"
          ]
        }
      ],
      "source": [
        "for kohli,dhoni,dravid in zip([1,2,3],[3,2,1],[3,3,3]):\n",
        "  print(kohli,dhoni,dravid)"
      ]
    },
    {
      "cell_type": "code",
      "execution_count": null,
      "metadata": {
        "colab": {
          "base_uri": "https://localhost:8080/"
        },
        "id": "_ZtA5pst1r2H",
        "outputId": "704ad00e-2daa-4f5e-fcd8-38b17a1711b7"
      },
      "outputs": [
        {
          "data": {
            "text/plain": [
              "[(1, 3, 3), (2, 2, 3), (3, 1, 3)]"
            ]
          },
          "execution_count": 46,
          "metadata": {},
          "output_type": "execute_result"
        }
      ],
      "source": [
        "list(zip([1,2,3],[3,2,1],[3,3,3]))"
      ]
    },
    {
      "cell_type": "code",
      "execution_count": null,
      "metadata": {
        "colab": {
          "base_uri": "https://localhost:8080/",
          "height": 1000
        },
        "id": "6OjM4at61r4S",
        "outputId": "03f5b03b-dfcc-4d76-a8bf-c901884be801"
      },
      "outputs": [
        {
          "data": {
            "image/png": "[encoded data removed]",
            "text/plain": [
              "<Figure size 640x480 with 1 Axes>"
            ]
          },
          "metadata": {},
          "output_type": "display_data"
        },
        {
          "name": "stdout",
          "output_type": "stream",
          "text": [
            "------------------------------------------------------------\n"
          ]
        },
        {
          "data": {
            "image/png": "[encoded data removed]",
            "text/plain": [
              "<Figure size 640x480 with 1 Axes>"
            ]
          },
          "metadata": {},
          "output_type": "display_data"
        },
        {
          "name": "stdout",
          "output_type": "stream",
          "text": [
            "------------------------------------------------------------\n"
          ]
        },
        {
          "data": {
            "image/png": "[encoded data removed]",
            "text/plain": [
              "<Figure size 640x480 with 1 Axes>"
            ]
          },
          "metadata": {},
          "output_type": "display_data"
        },
        {
          "name": "stdout",
          "output_type": "stream",
          "text": [
            "------------------------------------------------------------\n"
          ]
        }
      ],
      "source": [
        "for img_array,pred,actual in zip(X_new,Y_pred,y_test[:3]):\n",
        "  plt.imshow(img_array,cmap=\"gray\")\n",
        "  plt.title(f\"predicted:{pred},actual:{actual}\")\n",
        "  plt.axis(\"off\")\n",
        "  plt.show()\n",
        "  print(\"--\"*30)"
      ]
    },
    {
      "cell_type": "code",
      "execution_count": null,
      "metadata": {
        "id": "jDlE9jVI1r6F"
      },
      "outputs": [],
      "source": []
    },
    {
      "cell_type": "markdown",
      "metadata": {
        "id": "L06Ma3sa8LEQ"
      },
      "source": [
        "Transfer Learning"
      ]
    },
    {
      "cell_type": "code",
      "execution_count": null,
      "metadata": {
        "id": "PcHzBNnv1r7x"
      },
      "outputs": [],
      "source": [
        "#classify handwritten digits into odd and even\n",
        "pretrained_model=tf.keras.models.load_model(\"mnist_full.h5\")"
      ]
    },
    {
      "cell_type": "code",
      "execution_count": null,
      "metadata": {
        "colab": {
          "base_uri": "https://localhost:8080/"
        },
        "id": "qDQBXFkY9OEC",
        "outputId": "6cc9ff11-b2cd-4492-9b92-4fbdc0e0ab7a"
      },
      "outputs": [
        {
          "name": "stdout",
          "output_type": "stream",
          "text": [
            "Model: \"sequential\"\n",
            "_________________________________________________________________\n",
            " Layer (type)                Output Shape              Param #   \n",
            "=================================================================\n",
            " inputLayer (Flatten)        (None, 784)               0         \n",
            "                                                                 \n",
            " hiddenLayer01 (Dense)       (None, 300)               235500    \n",
            "                                                                 \n",
            " hiddenLayer02 (Dense)       (None, 100)               30100     \n",
            "                                                                 \n",
            " outputLayer (Dense)         (None, 10)                1010      \n",
            "                                                                 \n",
            "=================================================================\n",
            "Total params: 266610 (1.02 MB)\n",
            "Trainable params: 266610 (1.02 MB)\n",
            "Non-trainable params: 0 (0.00 Byte)\n",
            "_________________________________________________________________\n"
          ]
        }
      ],
      "source": [
        "pretrained_model.summary()"
      ]
    },
    {
      "cell_type": "code",
      "execution_count": null,
      "metadata": {
        "colab": {
          "base_uri": "https://localhost:8080/"
        },
        "id": "DExSLGRb9OGW",
        "outputId": "661f86d3-5d38-4dcb-8ba9-22b37063e471"
      },
      "outputs": [
        {
          "name": "stdout",
          "output_type": "stream",
          "text": [
            "inputLayer:True\n",
            "hiddenLayer01:True\n",
            "hiddenLayer02:True\n",
            "outputLayer:True\n"
          ]
        }
      ],
      "source": [
        "for layer in pretrained_model.layers:\n",
        "  print(f\"{layer.name}:{layer.trainable}\")"
      ]
    },
    {
      "cell_type": "code",
      "execution_count": null,
      "metadata": {
        "id": "ZZVpoAOd9OJ6"
      },
      "outputs": [],
      "source": [
        "for layer in pretrained_model.layers[:-1]:\n",
        "  layer.trainable=False"
      ]
    },
    {
      "cell_type": "code",
      "execution_count": null,
      "metadata": {
        "colab": {
          "base_uri": "https://localhost:8080/"
        },
        "id": "U_spIe0O9OMX",
        "outputId": "57edd32c-f6b1-4763-9c79-42d93fc16143"
      },
      "outputs": [
        {
          "name": "stdout",
          "output_type": "stream",
          "text": [
            "inputLayer:False\n",
            "hiddenLayer01:False\n",
            "hiddenLayer02:False\n",
            "outputLayer:True\n"
          ]
        }
      ],
      "source": [
        "for layer in pretrained_model.layers:\n",
        "  print(f\"{layer.name}:{layer.trainable}\")\n"
      ]
    },
    {
      "cell_type": "code",
      "execution_count": null,
      "metadata": {
        "id": "Ts6X17J9-CQl"
      },
      "outputs": [],
      "source": [
        "lower_pretrained_model=pretrained_model.layers[:-1]"
      ]
    },
    {
      "cell_type": "code",
      "execution_count": null,
      "metadata": {
        "id": "12v-LxY0-VFN"
      },
      "outputs": [],
      "source": [
        "new_model=tf.keras.models.Sequential(lower_pretrained_model)\n",
        "new_model.add(\n",
        "    tf.keras.layers.Dense(2,activation='softmax')\n",
        ")"
      ]
    },
    {
      "cell_type": "code",
      "execution_count": null,
      "metadata": {
        "colab": {
          "base_uri": "https://localhost:8080/"
        },
        "id": "oOZyPg8s-slR",
        "outputId": "38ed0a34-1ce9-4123-a4f0-0d8e7ec9fe91"
      },
      "outputs": [
        {
          "name": "stdout",
          "output_type": "stream",
          "text": [
            "Model: \"sequential_1\"\n",
            "_________________________________________________________________\n",
            " Layer (type)                Output Shape              Param #   \n",
            "=================================================================\n",
            " inputLayer (Flatten)        (None, 784)               0         \n",
            "                                                                 \n",
            " hiddenLayer01 (Dense)       (None, 300)               235500    \n",
            "                                                                 \n",
            " hiddenLayer02 (Dense)       (None, 100)               30100     \n",
            "                                                                 \n",
            " dense (Dense)               (None, 2)                 202       \n",
            "                                                                 \n",
            "=================================================================\n",
            "Total params: 265802 (1.01 MB)\n",
            "Trainable params: 202 (808.00 Byte)\n",
            "Non-trainable params: 265600 (1.01 MB)\n",
            "_________________________________________________________________\n"
          ]
        }
      ],
      "source": [
        "new_model.summary()"
      ]
    },
    {
      "cell_type": "code",
      "execution_count": null,
      "metadata": {
        "colab": {
          "base_uri": "https://localhost:8080/"
        },
        "id": "a6qLD-8b-vq2",
        "outputId": "3d29a613-ab6d-491c-8865-31f6055805c4"
      },
      "outputs": [
        {
          "data": {
            "text/plain": [
              "202"
            ]
          },
          "execution_count": 61,
          "metadata": {},
          "output_type": "execute_result"
        }
      ],
      "source": [
        "100*2+2"
      ]
    },
    {
      "cell_type": "code",
      "execution_count": null,
      "metadata": {
        "id": "ki1g2ix5-1S7"
      },
      "outputs": [],
      "source": [
        "def update_even_odd_labels(labels):\n",
        "  for idx,label in enumerate(labels):\n",
        "    labels[idx]=np.where(label%2==0,1,0)\n",
        "  return labels"
      ]
    },
    {
      "cell_type": "code",
      "execution_count": null,
      "metadata": {
        "colab": {
          "base_uri": "https://localhost:8080/"
        },
        "id": "lFGfWe-e_NWz",
        "outputId": "afb28104-2b7d-46da-b0bf-fa5398fca6a9"
      },
      "outputs": [
        {
          "data": {
            "text/plain": [
              "array([1, 2, 3, 4, 5])"
            ]
          },
          "execution_count": 63,
          "metadata": {},
          "output_type": "execute_result"
        }
      ],
      "source": [
        "ex_1=np.array([1,2,3,4,5])\n",
        "ex_1"
      ]
    },
    {
      "cell_type": "code",
      "execution_count": null,
      "metadata": {
        "colab": {
          "base_uri": "https://localhost:8080/"
        },
        "id": "NirHMnSQ_XZ2",
        "outputId": "e5b2c5c3-854e-4403-c852-79498c9e7195"
      },
      "outputs": [
        {
          "name": "stdout",
          "output_type": "stream",
          "text": [
            "1 0\n",
            "2 1\n",
            "3 0\n",
            "4 1\n",
            "5 0\n"
          ]
        }
      ],
      "source": [
        "for idx,label in enumerate(ex_1):\n",
        "  print(ex_1[idx],np.where(label%2==0,1,0))"
      ]
    },
    {
      "cell_type": "code",
      "execution_count": null,
      "metadata": {
        "id": "UVyPpbUe_qVt"
      },
      "outputs": [],
      "source": [
        "y_train_bin,y_test_bin,y_valid_bin=update_even_odd_labels([y_train,y_test,y_valid])"
      ]
    },
    {
      "cell_type": "code",
      "execution_count": null,
      "metadata": {
        "colab": {
          "base_uri": "https://localhost:8080/"
        },
        "id": "npzl9I6__7ng",
        "outputId": "91cb7fc1-d5f2-4208-8e2d-cb64611433da"
      },
      "outputs": [
        {
          "data": {
            "text/plain": [
              "array([0, 1])"
            ]
          },
          "execution_count": 68,
          "metadata": {},
          "output_type": "execute_result"
        }
      ],
      "source": [
        "np.unique(y_train_bin)"
      ]
    },
    {
      "cell_type": "code",
      "execution_count": null,
      "metadata": {
        "id": "FhZO3JOS__E2"
      },
      "outputs": [],
      "source": [
        "new_model.compile(loss=\"sparse_categorical_crossentropy\",\n",
        "                  optimizer=\"SGD\",\n",
        "                  metrics=[\"accuracy\"])"
      ]
    },
    {
      "cell_type": "code",
      "execution_count": null,
      "metadata": {
        "colab": {
          "base_uri": "https://localhost:8080/"
        },
        "id": "KUDsHBfGAmRY",
        "outputId": "6ed780f8-22c5-4e2b-9530-e39ce002c44b"
      },
      "outputs": [
        {
          "name": "stdout",
          "output_type": "stream",
          "text": [
            "Epoch 1/10\n",
            "1719/1719 [==============================] - 5s 3ms/step - loss: 0.1719 - accuracy: 0.9392 - val_loss: 0.1330 - val_accuracy: 0.9574\n",
            "Epoch 2/10\n",
            "1719/1719 [==============================] - 4s 2ms/step - loss: 0.1225 - accuracy: 0.9575 - val_loss: 0.1189 - val_accuracy: 0.9598\n",
            "Epoch 3/10\n",
            "1719/1719 [==============================] - 4s 2ms/step - loss: 0.1119 - accuracy: 0.9607 - val_loss: 0.1121 - val_accuracy: 0.9622\n",
            "Epoch 4/10\n",
            "1719/1719 [==============================] - 5s 3ms/step - loss: 0.1062 - accuracy: 0.9627 - val_loss: 0.1089 - val_accuracy: 0.9632\n",
            "Epoch 5/10\n",
            "1719/1719 [==============================] - 4s 2ms/step - loss: 0.1025 - accuracy: 0.9638 - val_loss: 0.1058 - val_accuracy: 0.9634\n",
            "Epoch 6/10\n",
            "1719/1719 [==============================] - 5s 3ms/step - loss: 0.0997 - accuracy: 0.9647 - val_loss: 0.1044 - val_accuracy: 0.9644\n",
            "Epoch 7/10\n",
            "1719/1719 [==============================] - 4s 3ms/step - loss: 0.0975 - accuracy: 0.9656 - val_loss: 0.1019 - val_accuracy: 0.9650\n",
            "Epoch 8/10\n",
            "1719/1719 [==============================] - 4s 2ms/step - loss: 0.0960 - accuracy: 0.9659 - val_loss: 0.1008 - val_accuracy: 0.9656\n",
            "Epoch 9/10\n",
            "1719/1719 [==============================] - 5s 3ms/step - loss: 0.0947 - accuracy: 0.9666 - val_loss: 0.1001 - val_accuracy: 0.9662\n",
            "Epoch 10/10\n",
            "1719/1719 [==============================] - 4s 3ms/step - loss: 0.0933 - accuracy: 0.9666 - val_loss: 0.0983 - val_accuracy: 0.9676\n"
          ]
        }
      ],
      "source": [
        "history=new_model.fit(\n",
        "    X_train,y_train_bin,epochs=10,validation_data=(X_valid,y_valid_bin)\n",
        ")"
      ]
    },
    {
      "cell_type": "code",
      "execution_count": null,
      "metadata": {
        "colab": {
          "base_uri": "https://localhost:8080/"
        },
        "id": "nR45PUPsBY_A",
        "outputId": "1dfb1695-afb1-46b3-edbf-3a9b1f15a745"
      },
      "outputs": [
        {
          "name": "stdout",
          "output_type": "stream",
          "text": [
            "313/313 [==============================] - 1s 2ms/step - loss: 0.1023 - accuracy: 0.9626\n"
          ]
        },
        {
          "data": {
            "text/plain": [
              "[0.1023435965180397, 0.9625999927520752]"
            ]
          },
          "execution_count": 71,
          "metadata": {},
          "output_type": "execute_result"
        }
      ],
      "source": [
        "new_model.evaluate(X_test,y_test_bin)"
      ]
    },
    {
      "cell_type": "code",
      "execution_count": null,
      "metadata": {
        "id": "Ti6oNf8mBZBE"
      },
      "outputs": [],
      "source": [
        "X_new=X_test[:3]"
      ]
    },
    {
      "cell_type": "code",
      "execution_count": null,
      "metadata": {
        "colab": {
          "base_uri": "https://localhost:8080/"
        },
        "id": "dCgYtHglGOiQ",
        "outputId": "d5b547db-f7f5-4a05-c41d-0c14edd1c05e"
      },
      "outputs": [
        {
          "name": "stdout",
          "output_type": "stream",
          "text": [
            "1/1 [==============================] - 0s 198ms/step\n"
          ]
        },
        {
          "data": {
            "text/plain": [
              "array([[0.999, 0.001],\n",
              "       [0.   , 1.   ],\n",
              "       [0.969, 0.031]], dtype=float32)"
            ]
          },
          "execution_count": 73,
          "metadata": {},
          "output_type": "execute_result"
        }
      ],
      "source": [
        "y_prob=new_model.predict(X_new)\n",
        "y_prob.round(3)"
      ]
    },
    {
      "cell_type": "code",
      "execution_count": null,
      "metadata": {
        "colab": {
          "base_uri": "https://localhost:8080/"
        },
        "id": "Ght9fJs1GY-l",
        "outputId": "e05a491b-c70c-42ea-a876-f6f8f1c00ead"
      },
      "outputs": [
        {
          "data": {
            "text/plain": [
              "array([0, 1, 0])"
            ]
          },
          "execution_count": 74,
          "metadata": {},
          "output_type": "execute_result"
        }
      ],
      "source": [
        "Y_pred=np.argmax(y_prob,axis=1)\n",
        "Y_pred"
      ]
    },
    {
      "cell_type": "code",
      "execution_count": null,
      "metadata": {
        "colab": {
          "base_uri": "https://localhost:8080/"
        },
        "id": "0OW_sqRqGh6P",
        "outputId": "8b99ba6f-bde3-4a8a-db6f-feb6646ef520"
      },
      "outputs": [
        {
          "data": {
            "text/plain": [
              "array([0, 1, 0])"
            ]
          },
          "execution_count": 75,
          "metadata": {},
          "output_type": "execute_result"
        }
      ],
      "source": [
        "y_test_bin[:3]"
      ]
    },
    {
      "cell_type": "code",
      "execution_count": null,
      "metadata": {
        "colab": {
          "base_uri": "https://localhost:8080/",
          "height": 1000
        },
        "id": "mnae7LneGwCJ",
        "outputId": "2a9d007d-a3cd-48cb-ebb2-732999886c2c"
      },
      "outputs": [
        {
          "data": {
            "image/png": "[encoded data removed]",
            "text/plain": [
              "<Figure size 640x480 with 1 Axes>"
            ]
          },
          "metadata": {},
          "output_type": "display_data"
        },
        {
          "name": "stdout",
          "output_type": "stream",
          "text": [
            "----------------------------------------------------------------------------\n"
          ]
        },
        {
          "data": {
            "image/png": "[encoded data removed]",
            "text/plain": [
              "<Figure size 640x480 with 1 Axes>"
            ]
          },
          "metadata": {},
          "output_type": "display_data"
        },
        {
          "name": "stdout",
          "output_type": "stream",
          "text": [
            "----------------------------------------------------------------------------\n"
          ]
        },
        {
          "data": {
            "image/png": "[encoded data removed]",
            "text/plain": [
              "<Figure size 640x480 with 1 Axes>"
            ]
          },
          "metadata": {},
          "output_type": "display_data"
        },
        {
          "name": "stdout",
          "output_type": "stream",
          "text": [
            "----------------------------------------------------------------------------\n"
          ]
        }
      ],
      "source": [
        "for img_array, pred, actual in zip(X_new, Y_pred, y_test_bin[:3]):\n",
        "  if pred == 1:\n",
        "    pred= \"even\"\n",
        "  else:\n",
        "    pred = \"odd\"\n",
        "\n",
        "  if actual ==1:\n",
        "    actual= \"even\"\n",
        "\n",
        "  else:\n",
        "    actual= \"odd\"\n",
        "\n",
        "  plt.imshow(img_array, cmap=\"gray\")\n",
        "\n",
        "  plt.title(f\"predicted: {pred}, actual: {actual}\")\n",
        "\n",
        "  plt.axis(\"off\")\n",
        "\n",
        "  plt.show()\n",
        "\n",
        "  print(\"--\"*38)"
      ]
    },
    {
      "cell_type": "code",
      "execution_count": null,
      "metadata": {
        "id": "peajbsZaIHhu"
      },
      "outputs": [],
      "source": []
    }
  ],
  "metadata": {
    "accelerator": "GPU",
    "colab": {
      "gpuType": "T4",
      "provenance": []
    },
    "kernelspec": {
      "display_name": "Python 3",
      "name": "python3"
    },
    "language_info": {
      "name": "python"
    }
  },
  "nbformat": 4,
  "nbformat_minor": 0
}
